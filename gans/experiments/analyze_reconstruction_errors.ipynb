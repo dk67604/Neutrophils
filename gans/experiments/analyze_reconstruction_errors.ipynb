{
 "cells": [
  {
   "cell_type": "code",
   "execution_count": 1,
   "metadata": {
    "collapsed": true
   },
   "outputs": [],
   "source": [
    "import numpy as np\n",
    "import matplotlib.pyplot as plt\n",
    "from scipy.stats import multivariate_normal\n",
    "\n",
    "import torch\n",
    "\n",
    "%matplotlib inline"
   ]
  },
  {
   "cell_type": "code",
   "execution_count": 97,
   "metadata": {},
   "outputs": [],
   "source": [
    "file_template = 'reconstruction/{0}/reconstruction_data.pth'\n",
    "\n",
    "model_folder_names = [ 'size-64-64_gan-adam_10000_500',\n",
    "                       'size-64-64_wgan-rmsprop_10000_500',\n",
    "                       'size-64-64_wgangp-adam_10000_500'\n",
    "                     ]\n",
    "\n",
    "model_legend_names = ['GAN',\n",
    "                      'WGAN',\n",
    "                      'Improved WGAN'\n",
    "                     ]\n",
    "class_names = ['neutrophils']"
   ]
  },
  {
   "cell_type": "markdown",
   "metadata": {},
   "source": [
    "## FUNCS"
   ]
  },
  {
   "cell_type": "code",
   "execution_count": 98,
   "metadata": {
    "code_folding": [
     33
    ],
    "collapsed": true
   },
   "outputs": [],
   "source": [
    "def mad(arr):\n",
    "    med = np.median(arr)\n",
    "    return np.median(np.abs(arr - med))\n",
    "\n",
    "def print_info(model, lls, dists):\n",
    "    lls = np.array(lls)\n",
    "    dists = np.array(dists)\n",
    "\n",
    "    '''\n",
    "    print('NLL={0:0.0f}\\u00B1{1:0.0f}; L2={2:0.3f}\\u00B1{3:0.3f} - {4}'.format(np.median(lls), mad(lls),\n",
    "                                                                               np.median(dists), mad(dists),\n",
    "                                                                               model))\n",
    "    '''\n",
    "    print('NLL={0:0.0f}\\u00B1{1:0.0f}; L2={2:0.3f}\\u00B1{3:0.3f} - {4}'.format(np.mean(lls), np.std(lls),\n",
    "                                                                               np.mean(dists), np.std(dists),\n",
    "                                                                               model))\n",
    "    \n",
    "def print_stats(file_template, model_folder_names, class_names, model_legend_names=None):\n",
    "    if model_legend_names is None:\n",
    "        model_legend_names = model_folder_names\n",
    "    lls_all = {m: [] for m in model_folder_names}\n",
    "    dists_all = {m: [] for m in model_folder_names}\n",
    "    for cl in class_names:\n",
    "        print('Class', cl)\n",
    "        for i_model, model in enumerate(model_folder_names):\n",
    "            data = torch.load(file_template.format(model))\n",
    "            lls = data['lls_noise'][cl]\n",
    "            dists = data['l2_dists'][cl]\n",
    "            print_info(model_legend_names[i_model], lls, dists)\n",
    "            lls_all[model] += lls\n",
    "            dists_all[model] += dists\n",
    "\n",
    "    \n",
    "    #for i_model, model in enumerate(model_folder_names):\n",
    "    #    print_info(model_legend_names[i_model], lls_all[model], dists_all[model])       \n",
    "        \n",
    "def do_scatter_plots(file_template, model_folder_names, class_names, model_legend_names=None,\n",
    "                     nn_data=None, nll_mean=None, nll_std=None, save_prefix=None):\n",
    "    if model_legend_names is None:\n",
    "        model_legend_names = model_folder_names\n",
    "    lls = []\n",
    "    dists = []\n",
    "    plt.rc('text', usetex=True)\n",
    "    plt.rc('font', family='serif')\n",
    "    for cl in class_names:\n",
    "        fig = plt.figure(figsize=(5,4))\n",
    "        ax = fig.add_subplot(111)\n",
    "\n",
    "        for i_model, model in enumerate(model_folder_names):\n",
    "            data = torch.load(file_template.format(model))\n",
    "            lls = data['lls_noise'][cl]\n",
    "            dists = data['l2_dists'][cl]\n",
    "            ax.scatter(dists, lls)\n",
    "\n",
    "        ax.legend(model_legend_names)\n",
    "        ax.set_xlabel(r'$L_2$-error')\n",
    "        ax.set_ylabel(r'NLL')\n",
    "        # ax.set_title(cl)\n",
    "\n",
    "        if nn_data is not None:\n",
    "            ax.plot([nn_data[cl][0], nn_data[cl][0]], [0, 1000], \"-\", color='blue', zorder=-100)\n",
    "            ax.plot([nn_data[cl][0] + nn_data[cl][1] * 3, nn_data[cl][0] + nn_data[cl][1] * 3], [0, 1000], \"--\", color='gray')\n",
    "            ax.plot([nn_data[cl][0] - nn_data[cl][1] * 3, nn_data[cl][0] - nn_data[cl][1] * 3], [0, 1000], \"--\", color='gray')\n",
    "        \n",
    "        if nll_mean is not None:\n",
    "            ax.plot([0, 1], [nll_mean, nll_mean], \"-\", color='gray', zorder=-100)\n",
    "            if nll_std is not None:\n",
    "                ax.plot([0, 1], [nll_mean + 3 * nll_std, nll_mean + 3 * nll_std], \"--\", color='gray', zorder=-100)\n",
    "                ax.plot([0, 1], [nll_mean - 3 * nll_std, nll_mean - 3 * nll_std], \"--\", color='gray', zorder=-100)\n",
    "                \n",
    "        #ax.axis((0.02, 0.14, 100, 300))\n",
    "        if save_prefix is not None:\n",
    "            fig.savefig(save_prefix + '_' + cl + '.pdf', bbox_inches='tight')\n",
    "        plt.show()\n",
    "        "
   ]
  },
  {
   "cell_type": "markdown",
   "metadata": {
    "heading_collapsed": true
   },
   "source": [
    "## FUNCS"
   ]
  },
  {
   "cell_type": "code",
   "execution_count": 61,
   "metadata": {
    "code_folding": [],
    "hidden": true
   },
   "outputs": [
    {
     "name": "stdout",
     "output_type": "stream",
     "text": [
      "L2=0.044±0.006\n",
      "L2=0.043±0.004\n",
      "{'neutrophils': (0.043699578557565323, 0.0062729207628393598), 'all': (0.043699578557565323, 0.0062729207628393598)}\n"
     ]
    }
   ],
   "source": [
    "\n",
    "def print_nn_info(dists):\n",
    "    dists = np.array(dists)\n",
    "    dists_avg = np.mean(dists)\n",
    "    dists_std = np.std(dists)\n",
    "    \n",
    "    print('L2={0:0.3f}\\u00B1{1:0.3f}'.format(dists_avg, dists_std))\n",
    "    \n",
    "    \n",
    "    dists_median = np.median(np.array(dists))\n",
    "    dists_mad = mad(np.array(dists))\n",
    "    print('L2={0:0.3f}\\u00B1{1:0.3f}'.format(dists_median, dists_mad))\n",
    "    \n",
    "    return dists_avg, dists_std\n",
    "\n",
    "def print_nn_dists(data, class_names):\n",
    "    nn_data = {}\n",
    "    dists_all = []\n",
    "    for cl in class_names:\n",
    "        dists = data['l2_dists'][cl]\n",
    "        dists_median, dists_mad = print_nn_info(dists)\n",
    "        dists_all += dists\n",
    "        nn_data[cl] = (dists_median, dists_mad)\n",
    "\n",
    "    nn_data['all'] = (dists_median, dists_mad)\n",
    "    return nn_data\n",
    " \n",
    "# get the nearest neighbor distance0\n",
    "data0 = torch.load(file_template.format(model_folder_names[0]))\n",
    "nn_data0 = print_nn_dists(data0, class_names)\n",
    "print (nn_data0)"
   ]
  },
  {
   "cell_type": "markdown",
   "metadata": {},
   "source": [
    "# PLOT"
   ]
  },
  {
   "cell_type": "code",
   "execution_count": 99,
   "metadata": {
    "code_folding": []
   },
   "outputs": [
    {
     "name": "stdout",
     "output_type": "stream",
     "text": [
      "Mean: 142; std: 7\n"
     ]
    }
   ],
   "source": [
    "# compute the mean and std of distance to the origin of the Gaussian samples\n",
    "np.random.seed(42)\n",
    "noise_dim = 100\n",
    "mvn = multivariate_normal(np.zeros(noise_dim), np.identity(noise_dim))\n",
    "points = mvn.rvs(size=100)\n",
    "nlls = -mvn.logpdf(points)\n",
    "nll_mean, nll_std = np.mean(nlls), np.std(nlls)\n",
    "#plt.hist(nlls, bins=100)\n",
    "print('Mean: {0:0.0f}; std: {1:0.0f}'.format(nll_mean, nll_std))"
   ]
  },
  {
   "cell_type": "code",
   "execution_count": 100,
   "metadata": {},
   "outputs": [
    {
     "name": "stdout",
     "output_type": "stream",
     "text": [
      "Class neutrophils\n",
      "NLL=146±12; L2=0.142±0.025 - GAN\n",
      "NLL=172±9; L2=0.073±0.013 - WGAN\n",
      "NLL=170±14; L2=0.041±0.006 - Improved WGAN\n"
     ]
    }
   ],
   "source": [
    "print_stats(file_template, model_folder_names, class_names, model_legend_names=model_legend_names)"
   ]
  },
  {
   "cell_type": "code",
   "execution_count": 101,
   "metadata": {},
   "outputs": [
    {
     "data": {
      "image/png": "[encoded data removed]",
      "text/plain": [
       "<matplotlib.figure.Figure at 0x7f1d88835400>"
      ]
     },
     "metadata": {},
     "output_type": "display_data"
    }
   ],
   "source": [
    "do_scatter_plots(file_template, model_folder_names, class_names, model_legend_names,\n",
    "                 nn_data0, nll_mean, nll_std, save_prefix=None)"
   ]
  },
  {
   "cell_type": "code",
   "execution_count": null,
   "metadata": {
    "collapsed": true
   },
   "outputs": [],
   "source": [
    "do_scatter_plots(file_template, model_folder_names, class_names, model_legend_names,\n",
    "                 nn_data0, nll_mean, nll_std, save_prefix='reconstruction-regular-5000')"
   ]
  },
  {
   "cell_type": "markdown",
   "metadata": {},
   "source": [
    "### 5000"
   ]
  },
  {
   "cell_type": "code",
   "execution_count": null,
   "metadata": {
    "collapsed": true
   },
   "outputs": [],
   "source": [
    "file_template = 'reconstruction/{0}/reconstruction_data.pth'\n",
    "\n",
    "model_folder_names = [ 'size-64-64_gan-adam_10000',\n",
    "                       'size-64-64_wgan-rmsprop_10000',\n",
    "                       'size-64-64_wgangp-adam-10000'\n",
    "                     ]\n",
    "\n",
    "model_legend_names = [  'GAN',\n",
    "                        'WGAN',\n",
    "                        'Improved WGAN'\n",
    "                     ]\n",
    "class_names = ['neutrophils']"
   ]
  },
  {
   "cell_type": "code",
   "execution_count": null,
   "metadata": {
    "collapsed": true
   },
   "outputs": [],
   "source": [
    "# get the nearest neighbor distance0\n",
    "data0 = torch.load(file_template.format(model_folder_names[0]))\n",
    "nn_data0 = print_nn_dists(data0, class_names)\n",
    "print (nn_data0)"
   ]
  },
  {
   "cell_type": "code",
   "execution_count": null,
   "metadata": {
    "collapsed": true
   },
   "outputs": [],
   "source": [
    "print_stats(file_template, model_folder_names, class_names, model_legend_names=model_legend_names)"
   ]
  },
  {
   "cell_type": "code",
   "execution_count": null,
   "metadata": {
    "collapsed": true
   },
   "outputs": [],
   "source": [
    "do_scatter_plots(file_template, model_folder_names, class_names, model_legend_names,\n",
    "                 nn_data0, nll_mean, nll_std, save_prefix='reconstruction-regular-10000')"
   ]
  },
  {
   "cell_type": "code",
   "execution_count": null,
   "metadata": {
    "collapsed": true
   },
   "outputs": [],
   "source": []
  }
 ],
 "metadata": {
  "kernelspec": {
   "display_name": "Python 3",
   "language": "python",
   "name": "python3"
  },
  "language_info": {
   "codemirror_mode": {
    "name": "ipython",
    "version": 3
   },
   "file_extension": ".py",
   "mimetype": "text/x-python",
   "name": "python",
   "nbconvert_exporter": "python",
   "pygments_lexer": "ipython3",
   "version": "3.6.1"
  }
 },
 "nbformat": 4,
 "nbformat_minor": 2
}
