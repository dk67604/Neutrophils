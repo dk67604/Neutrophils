{
 "cells": [
  {
   "cell_type": "code",
   "execution_count": 1,
   "metadata": {
    "collapsed": true
   },
   "outputs": [],
   "source": [
    "import numpy as np\n",
    "import matplotlib.pyplot as plt\n",
    "from scipy.stats import multivariate_normal\n",
    "\n",
    "import torch\n",
    "\n",
    "%matplotlib inline"
   ]
  },
  {
   "cell_type": "code",
   "execution_count": 2,
   "metadata": {
    "collapsed": true
   },
   "outputs": [],
   "source": [
    "file_template = 'reconstruction/{0}/reconstruction_data.pth'\n",
    "\n",
    "model_folder_names = [ 'size-64-64_gan-adam_50000',\n",
    "                       'size-64-64_wgan-rmsprop_50000',\n",
    "                       'size-64-64_wgangp-adam-50000'\n",
    "                     ]\n",
    "\n",
    "model_legend_names = [  'GAN',\n",
    "                        'WGAN',\n",
    "                        'WGAN-GP'\n",
    "                     ]\n",
    "class_names = ['neutrophils']"
   ]
  },
  {
   "cell_type": "code",
   "execution_count": 3,
   "metadata": {
    "collapsed": true
   },
   "outputs": [],
   "source": [
    "def mad(arr):\n",
    "    med = np.median(arr)\n",
    "    return np.median(np.abs(arr - med))\n",
    "\n",
    "def print_info(model, lls, dists):\n",
    "    lls = np.array(lls)\n",
    "    dists = np.array(dists)\n",
    "    '''\n",
    "    print('NLL={0:0.0f}\\u00B1{1:0.0f}; L2={2:0.3f}\\u00B1{3:0.3f} - {4}'.format(np.median(lls), mad(lls),\n",
    "                                                                               np.median(dists), mad(dists),\n",
    "                                                                               model))\n",
    "    '''\n",
    "    print('NLL={0:0.0f}\\u00B1{1:0.0f}; L2={2:0.3f}\\u00B1{3:0.3f} - {4}'.format(np.mean(lls), np.std(lls),\n",
    "                                                                               np.mean(dists), np.std(dists),\n",
    "                                                                               model))\n",
    "    \n",
    "def print_stats(file_template, model_folder_names, class_names, model_legend_names=None):\n",
    "    if model_legend_names is None:\n",
    "        model_legend_names = model_folder_names\n",
    "    lls_all = {m: [] for m in model_folder_names}\n",
    "    dists_all = {m: [] for m in model_folder_names}\n",
    "    for cl in class_names:\n",
    "        print('Class', cl)\n",
    "        for i_model, model in enumerate(model_folder_names):\n",
    "            data = torch.load(file_template.format(model))\n",
    "            lls = data['lls_noise'][cl]\n",
    "            dists = data['l2_dists'][cl]\n",
    "            print_info(model_legend_names[i_model], lls, dists)\n",
    "            lls_all[model] += lls\n",
    "            dists_all[model] += dists\n",
    "\n",
    "    \n",
    "    #for i_model, model in enumerate(model_folder_names):\n",
    "    #    print_info(model_legend_names[i_model], lls_all[model], dists_all[model])       \n",
    "        \n",
    "def do_scatter_plots(file_template, model_folder_names, class_names, model_legend_names=None,\n",
    "                     nn_data=None, nll_mean=None, nll_std=None, save_prefix=None):\n",
    "    if model_legend_names is None:\n",
    "        model_legend_names = model_folder_names\n",
    "    lls = []\n",
    "    dists = []\n",
    "    plt.rc('text', usetex=True)\n",
    "    plt.rc('font', family='serif')\n",
    "    for cl in class_names:\n",
    "        fig = plt.figure(figsize=(3, 3))\n",
    "        ax = fig.add_subplot(111)\n",
    "\n",
    "        for i_model, model in enumerate(model_folder_names):\n",
    "            data = torch.load(file_template.format(model))\n",
    "            lls = data['lls_noise'][cl]\n",
    "            dists = data['l2_dists'][cl]\n",
    "            ax.scatter(dists, lls)\n",
    "\n",
    "        ax.legend(model_legend_names)\n",
    "        ax.set_xlabel(r'$L_2$-error')\n",
    "        ax.set_ylabel(r'NLL')\n",
    "        # ax.set_title(cl)\n",
    "\n",
    "        if nn_data is not None:\n",
    "            ax.plot([nn_data[cl][0], nn_data[cl][0]], [0, 1000], \"-\", color='blue', zorder=-100)\n",
    "            ax.plot([nn_data[cl][0] + nn_data[cl][1] * 3, nn_data[cl][0] + nn_data[cl][1] * 3], [0, 1000], \"--\", color='gray')\n",
    "            ax.plot([nn_data[cl][0] - nn_data[cl][1] * 3, nn_data[cl][0] - nn_data[cl][1] * 3], [0, 1000], \"--\", color='gray')\n",
    "        if nll_mean is not None:\n",
    "            ax.plot([0, 1], [nll_mean, nll_mean], \"-\", color='gray', zorder=-100)\n",
    "            if nll_std is not None:\n",
    "                ax.plot([0, 1], [nll_mean + 3 * nll_std, nll_mean + 3 * nll_std], \"--\", color='gray', zorder=-100)\n",
    "                ax.plot([0, 1], [nll_mean - 3 * nll_std, nll_mean - 3 * nll_std], \"--\", color='gray', zorder=-100)\n",
    "                \n",
    "        ax.axis((0.02, 0.14, 100, 500))\n",
    "        if save_prefix is not None:\n",
    "            fig.savefig(save_prefix + '_' + cl + '.pdf', bbox_inches='tight')\n",
    "        plt.show()\n",
    "        "
   ]
  },
  {
   "cell_type": "code",
   "execution_count": 4,
   "metadata": {
    "code_folding": []
   },
   "outputs": [
    {
     "name": "stdout",
     "output_type": "stream",
     "text": [
      "L2=0.044±0.006\n",
      "{'neutrophils': (0.043913599181862675, 0.0056471562226452551), 'all': (0.043913599181862675, 0.0056471562226452551)}\n"
     ]
    }
   ],
   "source": [
    "\n",
    "def print_nn_info(dists):\n",
    "    dists = np.array(dists)\n",
    "    dists_avg = np.mean(dists)\n",
    "    dists_std = np.std(dists)\n",
    "    \n",
    "    print('L2={0:0.3f}\\u00B1{1:0.3f}'.format(dists_avg, dists_std))\n",
    "    \n",
    "    dists_median = np.median(np.array(dists))\n",
    "    dists_mad = mad(np.array(dists))\n",
    "    \n",
    "    return dists_avg, dists_std\n",
    "\n",
    "def print_nn_dists(data, class_names):\n",
    "    nn_data = {}\n",
    "    dists_all = []\n",
    "    for cl in class_names:\n",
    "        dists = data['l2_dists'][cl]\n",
    "        dists_median, dists_mad = print_nn_info(dists)\n",
    "        dists_all += dists\n",
    "        nn_data[cl] = (dists_median, dists_mad)\n",
    "\n",
    "    nn_data['all'] = (dists_median, dists_mad)\n",
    "    return nn_data\n",
    " \n",
    "# get the nearest neighbor distance0\n",
    "data0 = torch.load(file_template.format(model_folder_names[0]))\n",
    "nn_data0 = print_nn_dists(data0, class_names)\n",
    "print (nn_data0)"
   ]
  },
  {
   "cell_type": "code",
   "execution_count": 5,
   "metadata": {
    "code_folding": [
     0
    ],
    "collapsed": true
   },
   "outputs": [],
   "source": [
    "# compute the mean and std of distance to the origin of the Gaussian samples\n",
    "np.random.seed(42)\n",
    "noise_dim = 100\n",
    "mvn = multivariate_normal(np.zeros(noise_dim), np.identity(noise_dim))\n",
    "points = mvn.rvs(size=100000)\n",
    "nlls = -mvn.logpdf(points)\n",
    "nll_mean, nll_std = np.mean(nlls), np.std(nlls)\n",
    "#plt.hist(nlls, bins=100)\n",
    "#print('Mean: {0:0.0f}; std: {1:0.0f}'.format(nll_mean, nll_std))"
   ]
  },
  {
   "cell_type": "code",
   "execution_count": 6,
   "metadata": {},
   "outputs": [
    {
     "name": "stdout",
     "output_type": "stream",
     "text": [
      "Class neutrophils\n",
      "NLL=253±41; L2=0.044±0.006 - GAN\n",
      "NLL=215±27; L2=0.034±0.005 - WGAN\n",
      "NLL=158±13; L2=0.032±0.005 - WGAN-GP\n"
     ]
    }
   ],
   "source": [
    "print_stats(file_template, model_folder_names, class_names, model_legend_names=model_legend_names)"
   ]
  },
  {
   "cell_type": "code",
   "execution_count": 7,
   "metadata": {},
   "outputs": [
    {
     "data": {
      "image/png": "[encoded data removed]",
      "text/plain": [
       "<matplotlib.figure.Figure at 0x7f0584b87cc0>"
      ]
     },
     "metadata": {},
     "output_type": "display_data"
    }
   ],
   "source": [
    "do_scatter_plots(file_template, model_folder_names, class_names, model_legend_names,\n",
    "                 nn_data0, nll_mean, nll_std, save_prefix='reconstruction-regular-50000')"
   ]
  },
  {
   "cell_type": "markdown",
   "metadata": {
    "heading_collapsed": true
   },
   "source": [
    "### 5000"
   ]
  },
  {
   "cell_type": "code",
   "execution_count": 8,
   "metadata": {
    "collapsed": true,
    "hidden": true
   },
   "outputs": [],
   "source": [
    "file_template = 'reconstruction/{0}/reconstruction_data.pth'\n",
    "\n",
    "model_folder_names = [ 'size-64-64_gan-adam_5000',\n",
    "                       'size-64-64_wgan-rmsprop_5000',\n",
    "                       'size-64-64_wgangp-adam-5000'\n",
    "                     ]\n",
    "\n",
    "model_legend_names = [  'GAN',\n",
    "                        'WGAN',\n",
    "                        'WGAN-GP'\n",
    "                     ]\n",
    "class_names = ['neutrophils']"
   ]
  },
  {
   "cell_type": "code",
   "execution_count": 9,
   "metadata": {
    "hidden": true
   },
   "outputs": [
    {
     "name": "stdout",
     "output_type": "stream",
     "text": [
      "L2=0.054±0.006\n",
      "{'neutrophils': (0.053537380252629642, 0.0059627098746394139), 'all': (0.053537380252629642, 0.0059627098746394139)}\n"
     ]
    }
   ],
   "source": [
    "# get the nearest neighbor distance0\n",
    "data0 = torch.load(file_template.format(model_folder_names[0]))\n",
    "nn_data0 = print_nn_dists(data0, class_names)\n",
    "print (nn_data0)"
   ]
  },
  {
   "cell_type": "code",
   "execution_count": 10,
   "metadata": {
    "hidden": true
   },
   "outputs": [
    {
     "name": "stdout",
     "output_type": "stream",
     "text": [
      "Class neutrophils\n",
      "NLL=151±12; L2=0.054±0.006 - GAN\n",
      "NLL=163±15; L2=0.037±0.005 - WGAN\n",
      "NLL=150±13; L2=0.038±0.005 - WGAN-GP\n"
     ]
    }
   ],
   "source": [
    "print_stats(file_template, model_folder_names, class_names, model_legend_names=model_legend_names)"
   ]
  },
  {
   "cell_type": "code",
   "execution_count": 11,
   "metadata": {
    "hidden": true
   },
   "outputs": [
    {
     "data": {
      "image/png": "[encoded data removed]",
      "text/plain": [
       "<matplotlib.figure.Figure at 0x7f0584b58da0>"
      ]
     },
     "metadata": {},
     "output_type": "display_data"
    }
   ],
   "source": [
    "do_scatter_plots(file_template, model_folder_names, class_names, model_legend_names,\n",
    "                 nn_data0, nll_mean, nll_std, save_prefix='reconstruction-regular-5000')"
   ]
  },
  {
   "cell_type": "code",
   "execution_count": null,
   "metadata": {
    "collapsed": true,
    "hidden": true
   },
   "outputs": [],
   "source": []
  }
 ],
 "metadata": {
  "kernelspec": {
   "display_name": "Python 3",
   "language": "python",
   "name": "python3"
  },
  "language_info": {
   "codemirror_mode": {
    "name": "ipython",
    "version": 3
   },
   "file_extension": ".py",
   "mimetype": "text/x-python",
   "name": "python",
   "nbconvert_exporter": "python",
   "pygments_lexer": "ipython3",
   "version": "3.6.1"
  }
 },
 "nbformat": 4,
 "nbformat_minor": 2
}
