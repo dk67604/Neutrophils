{
 "cells": [
  {
   "cell_type": "markdown",
   "metadata": {
    "heading_collapsed": true
   },
   "source": [
    "# Imports"
   ]
  },
  {
   "cell_type": "code",
   "execution_count": 1,
   "metadata": {
    "code_folding": [],
    "collapsed": true,
    "hidden": true
   },
   "outputs": [],
   "source": [
    "\n",
    "from __future__ import division\n",
    "import numpy as np\n",
    "import sys\n",
    "from sys import platform as sys_pf\n",
    "if sys_pf == 'Darwin':\n",
    "    import matplotlib\n",
    "    matplotlib.use(\"TkAgg\")\n",
    "\n",
    "from mpl_toolkits.mplot3d import Axes3D\n",
    "from matplotlib import pyplot as plt\n",
    "from matplotlib import animation\n",
    "import math\n",
    "import ar\n",
    "from sklearn.preprocessing import normalize\n",
    "import pandas as pd\n",
    "from pandas import Series, DataFrame, Panel\n",
    "import seaborn as sns\n"
   ]
  },
  {
   "cell_type": "markdown",
   "metadata": {},
   "source": [
    "# Helper Functions"
   ]
  },
  {
   "cell_type": "code",
   "execution_count": 2,
   "metadata": {
    "code_folding": [
     0
    ],
    "collapsed": true
   },
   "outputs": [],
   "source": [
    "def plot_trajectory_2D(n, is_one, x, y,cxx=None,cyy=None, step=1, scatter_plot=False):\n",
    "    \"\"\"************************************************************** \n",
    "    n:        no_of_frames to plot\n",
    "    is_one:   True:  Single object's trajectory\n",
    "              False: Multiple object's trajectories\n",
    "    step:     step_size\n",
    "    x,y:      Coordinates to plot\n",
    "    **************************************************************\"\"\"\n",
    "    if is_one:\n",
    "        traj_points = 1\n",
    "        T = np.linspace(0,1,x.shape[0])\n",
    "\n",
    "    else : \n",
    "        traj_points = x.shape[0]\n",
    "        T = np.linspace(0,1,traj_points)\n",
    "\n",
    "    fig = plt.figure()\n",
    "    ax = fig.add_subplot(111)\n",
    "    s = step\n",
    "    plt.gca().invert_yaxis()\n",
    "    for index in range(traj_points): \n",
    "        for i in range(0,n-s,s):\n",
    "            if is_one : \n",
    "                ax.plot(x[i:i+s+1],y[i:i+s+1],linewidth=3)\n",
    "            else : \n",
    "                \n",
    "                cx = x[index]\n",
    "                cy = y[index]\n",
    "                if (scatter_plot):\n",
    "                    ax.scatter(cx[i:i+s+1],cy[i:i+s+1],color=(0.0,0.0,T[index]))\n",
    "                else:\n",
    "                    ax.plot(cx[i:i+s+1],cy[i:i+s+1],linewidth=3,color=(0.0,0.0,T[index]))\n",
    "    if (cxx is not None):\n",
    "        n=cxx.shape[1]\n",
    "        for index in range(traj_points): \n",
    "            for i in range(0,n-s,s):\n",
    "                if is_one : \n",
    "                    ax.plot(x[i:i+s+1],y[i:i+s+1],linewidth=3)\n",
    "                else : \n",
    "\n",
    "                    cx = cxx[index]\n",
    "                    cy = cyy[index]\n",
    "                    if (scatter_plot):\n",
    "                        ax.scatter(cx[i:i+s+1],cy[i:i+s+1],color=(T[index],0.0,0.0))\n",
    "                    else:\n",
    "                        ax.plot(cx[i:i+s+1],cy[i:i+s+1],linewidth=3,color=(0.0,0.0,T[index]))\n",
    "\n",
    "    \n",
    "    plt.show()"
   ]
  },
  {
   "cell_type": "code",
   "execution_count": 3,
   "metadata": {
    "code_folding": [
     0
    ],
    "collapsed": true
   },
   "outputs": [],
   "source": [
    "def plot_trajectory_3D(n, is_one, x, y, z, step=1):\n",
    "    \"\"\"************************************************************** \n",
    "    n:        no_of_frames to plot\n",
    "    is_one:   True:  Single object's trajectory\n",
    "              False: Multiple object's trajectories\n",
    "    step:     step_size\n",
    "    x,y:      Coordinates to plot\n",
    "    **************************************************************\"\"\"\n",
    "    \n",
    "    fig = plt.figure() \n",
    "    ax = fig.add_subplot(111, projection='3d')\n",
    "    plt.gca().invert_yaxis()\n",
    "    \n",
    "\n",
    "    if is_one :\n",
    "        traj_points = 1\n",
    "        T = np.linspace(0,1,x.shape[0])\n",
    "\n",
    "    else : \n",
    "        traj_points = x.shape[0]\n",
    "        T = np.linspace(0,1,traj_points)\n",
    "\n",
    "    s = step\n",
    "    for index in range(traj_points):\n",
    "        for j in range(0, n-s, s):\n",
    "            if is_one :             \n",
    "                ax.plot(x[j:j+s+1],y[j:j+s+1],z[j:j+s+1],linewidth=2)\n",
    "            else : \n",
    "                cx = x[index]\n",
    "                cy = y[index]\n",
    "                cz = z\n",
    "                ax.plot(cx[j:j+s+1],cy[j:j+s+1],cz[j:j+s+1],linewidth=2,color=(0.0,0.0,T[index]))\n",
    "\n",
    "\n",
    "    ax.set_xlabel('x')\n",
    "    ax.set_ylabel('y')\n",
    "    ax.set_zlabel('z')\n",
    "\n",
    "    plt.show()"
   ]
  },
  {
   "cell_type": "code",
   "execution_count": 4,
   "metadata": {
    "code_folding": [
     0
    ],
    "collapsed": true
   },
   "outputs": [],
   "source": [
    "def predict(X, A,order=2,predict_states=1,guided = True):\n",
    "    \n",
    "    # This is somewhat tricky. For abitrary order, we need to\n",
    "    # come up with an expression for:\n",
    "    #\n",
    "    # Xrecon = SUM_OF_PREVIOUS_TERMS\n",
    "    #\n",
    "    # where SUM_OF_PREVIOUS_TERMS is constructed in a loop over \"order\"\n",
    "    # previous elements in the data, multiplying each element by the\n",
    "    # corresponding transition matrix/coefficient. Then that sum needs to be\n",
    "    # but a single element in a larger array that has a correspondence to\n",
    "    # the original X.\n",
    "    Xnext = np.zeros((X.shape[0],X.shape[1]+predict_states))\n",
    "    Xnext[:, :order] = X[:, :order]\n",
    "    \n",
    "    \n",
    "    #Assuming np.size(X, axis = 1) = order\n",
    "    for p in range(np.size(X, axis = 1),np.size(X, axis = 1)+predict_states):\n",
    "        for j in range(0, order):\n",
    "            # The second argument to np.dot() is a ternary statement, conditioning\n",
    "            # on the \"guided\" boolean passed into this method: do we use the actual\n",
    "            # data in estimating the next point, or previously-esimated data?\n",
    "            \n",
    "            Xnext[:, p] += np.dot(A[j], Xnext[:, p - j - 1] if guided else Xnext[:, p - j -1])\n",
    "    \n",
    "    \n",
    "    orig_X = Xnext[:,:order]\n",
    "    next_X = Xnext[:,order:]\n",
    "    Xnext_mean = Xnext - np.mean(Xnext, axis = 0)\n",
    "    return orig_X, next_X, Xnext, Xnext_mean\n",
    "    "
   ]
  },
  {
   "cell_type": "markdown",
   "metadata": {},
   "source": [
    "# Normal Cells"
   ]
  },
  {
   "cell_type": "markdown",
   "metadata": {
    "heading_collapsed": true
   },
   "source": [
    "### Read inputs"
   ]
  },
  {
   "cell_type": "code",
   "execution_count": 5,
   "metadata": {
    "code_folding": [
     0
    ],
    "collapsed": true,
    "hidden": true
   },
   "outputs": [],
   "source": [
    "normal_cells_files = [\n",
    "        '/media/narita/Data/Neutrophils/fps_20_frames/1_07052016_Phagocytosis/final' \\\n",
    "                      '/tracking/organized_kalman_output_center_coords.npy',\n",
    "        '/media/narita/Data/Neutrophils/fps_20_frames/5_07072016_Phagocytosis_DMSO/final' \\\n",
    "                      '/tracking/organized_kalman_output_center_coords.npy'\n",
    "\n",
    "\n",
    "]\n",
    "\n",
    "all_normal_cells = []\n",
    "for i in range(len(normal_cells_files)):\n",
    "    normal_input = np.load(normal_cells_files[i])\n",
    "    all_normal_cells.insert(i,normal_input)\n",
    "\n",
    "all_normal_cells = np.vstack(all_normal_cells) \n"
   ]
  },
  {
   "cell_type": "markdown",
   "metadata": {
    "heading_collapsed": true
   },
   "source": [
    "### Trajectory Plots"
   ]
  },
  {
   "cell_type": "code",
   "execution_count": 6,
   "metadata": {
    "hidden": true
   },
   "outputs": [
    {
     "data": {
      "image/png": "[encoded data removed]",
      "text/plain": [
       "<matplotlib.figure.Figure at 0x7f5123015b38>"
      ]
     },
     "metadata": {},
     "output_type": "display_data"
    }
   ],
   "source": [
    "#%matplotlib notebook\n",
    "is_one = False\n",
    "plot_trajectory_2D(all_normal_cells.shape[1],is_one,all_normal_cells[:,:,0],all_normal_cells[:,:,1])\n"
   ]
  },
  {
   "cell_type": "markdown",
   "metadata": {},
   "source": [
    "### AR"
   ]
  },
  {
   "cell_type": "markdown",
   "metadata": {
    "heading_collapsed": true
   },
   "source": [
    "#### Normalize Inputs"
   ]
  },
  {
   "cell_type": "code",
   "execution_count": 7,
   "metadata": {
    "collapsed": true,
    "hidden": true
   },
   "outputs": [],
   "source": [
    "all_normal_cells_copy = all_normal_cells.copy()\n",
    "all_normal_cells_copy = np.transpose(all_normal_cells_copy,(1,0,2))\n",
    "all_normal_cells_copy = all_normal_cells_copy.reshape(all_normal_cells_copy.shape[0],all_normal_cells_copy.shape[1]*all_normal_cells_copy.shape[2])\n",
    "\n",
    "all_normal_cells_norm,normal_norms = normalize(all_normal_cells_copy,axis=0,return_norm=True)\n"
   ]
  },
  {
   "cell_type": "code",
   "execution_count": 8,
   "metadata": {
    "code_folding": [],
    "hidden": true
   },
   "outputs": [
    {
     "data": {
      "image/png": "[encoded data removed]",
      "text/plain": [
       "<matplotlib.figure.Figure at 0x7f511d313710>"
      ]
     },
     "metadata": {},
     "output_type": "display_data"
    }
   ],
   "source": [
    "# If needed, plot again\n",
    "recon = all_normal_cells_norm*normal_norms\n",
    "recon = recon.reshape(all_normal_cells_copy.shape[0],int(all_normal_cells_copy.shape[1]/2),2)\n",
    "recon = np.transpose(recon,(1,0,2))\n",
    "plot_trajectory_2D(recon.shape[1],False,recon[:,:,0],recon[:,:,1])\n",
    "\n"
   ]
  },
  {
   "cell_type": "markdown",
   "metadata": {},
   "source": [
    "#### State Space reduction - PCA"
   ]
  },
  {
   "cell_type": "code",
   "execution_count": 9,
   "metadata": {
    "collapsed": true
   },
   "outputs": [],
   "source": [
    "pca_components = 3\n",
    "ar_order = 2\n",
    "normal_X,normal_C,normal_S,normal_U = ar.state_space(all_normal_cells_norm.T,pca_components)\n"
   ]
  },
  {
   "cell_type": "markdown",
   "metadata": {
    "heading_collapsed": true
   },
   "source": [
    "#### Variance of components"
   ]
  },
  {
   "cell_type": "code",
   "execution_count": null,
   "metadata": {
    "hidden": true
   },
   "outputs": [],
   "source": [
    "tot = sum(normal_S)\n",
    "var_exp = [(i / tot) * 100 for i in sorted(normal_S, reverse=True)]\n",
    "cum_var_exp = np.cumsum(var_exp)\n",
    "print ((var_exp))\n",
    "\n",
    "with plt.style.context('seaborn-whitegrid'):\n",
    "    plt.figure(figsize=(6, 4))\n",
    "\n",
    "    plt.bar(range(len(var_exp)), var_exp, alpha=0.5, align='center',\n",
    "            label='individual explained variance')\n",
    "    plt.step(range(len(var_exp)), cum_var_exp, where='mid',\n",
    "             label='cumulative explained variance')\n",
    "    plt.ylabel('Explained variance ratio')\n",
    "    plt.xlabel('Principal components')\n",
    "    plt.legend(loc='best')\n",
    "    plt.tight_layout()\n",
    "plt.show()"
   ]
  },
  {
   "cell_type": "markdown",
   "metadata": {
    "heading_collapsed": true
   },
   "source": [
    "#### Plotting components"
   ]
  },
  {
   "cell_type": "code",
   "execution_count": null,
   "metadata": {
    "code_folding": [],
    "hidden": true
   },
   "outputs": [],
   "source": [
    "# 3D Plot\n",
    "from mpl_toolkits.mplot3d import Axes3D\n",
    "import matplotlib.pyplot as plt\n",
    "#matplotlib notebook\n",
    "\n",
    "fig = plt.figure()\n",
    "ax = fig.add_subplot(111, projection='3d')\n",
    "ax.scatter(normal_X[0,:], normal_X[1,:], normal_X[2,:],  c='r', marker='o')\n",
    "ax.set_xlabel('pc1');ax.set_ylabel('pc2');ax.set_zlabel('pc3');\n",
    "\n",
    "plt.show()"
   ]
  },
  {
   "cell_type": "code",
   "execution_count": null,
   "metadata": {
    "code_folding": [],
    "hidden": true
   },
   "outputs": [],
   "source": [
    "#2D Plot\n",
    "%matplotlib inline\n",
    "\n",
    "fig, ax = plt.subplots(1,3, sharey=True, sharex= True, figsize=(10,3))\n",
    "ax[0].scatter(normal_X[0,:],normal_X[1,:]);ax[0].set_xlabel('pc1');ax[0].set_ylabel('pc2')\n",
    "ax[1].scatter(normal_X[1,:],normal_X[2,:]);ax[1].set_xlabel('pc2');ax[1].set_ylabel('pc3')\n",
    "ax[2].scatter(normal_X[0,:],normal_X[2,:]);ax[2].set_xlabel('pc1');ax[2].set_ylabel('pc3')\n"
   ]
  },
  {
   "cell_type": "code",
   "execution_count": null,
   "metadata": {
    "hidden": true
   },
   "outputs": [],
   "source": [
    "#2D Plot\n",
    "%matplotlib inline\n",
    "\n",
    "if (pca_components/2)==0:\n",
    "    fig, ax = plt.subplots(int(pca_components/2),2,sharex= True, figsize=(15,5))\n",
    "else:\n",
    "    fig, ax = plt.subplots(pca_components-1,2,sharex= True, figsize=(15,5))\n",
    "\n",
    "for i in range(pca_components):\n",
    "    r = int(i/2)\n",
    "    c = int(i%2)\n",
    "    ax[r,c].scatter(range(len(normal_X[i,:])),normal_X[i,:]);ax[r,c].set_ylabel('pc'+str(i))\n",
    "    "
   ]
  },
  {
   "cell_type": "markdown",
   "metadata": {},
   "source": [
    "#### AR Train"
   ]
  },
  {
   "cell_type": "code",
   "execution_count": 10,
   "metadata": {},
   "outputs": [],
   "source": [
    "normal_X_train = normal_X[:,:]\n",
    "#X_test = X[:,50:]"
   ]
  },
  {
   "cell_type": "code",
   "execution_count": 11,
   "metadata": {},
   "outputs": [
    {
     "name": "stdout",
     "output_type": "stream",
     "text": [
      "Feature Vector:\n",
      "[[[ 1.3128857  -0.24891886 -0.19081638]\n",
      "  [ 0.08206611  1.28362492  0.13552041]\n",
      "  [-0.31262047  0.35770549  1.34413182]]\n",
      "\n",
      " [[-0.3129542   0.25528996  0.19065356]\n",
      "  [-0.07719794 -0.30243181 -0.11976076]\n",
      "  [ 0.30912037 -0.32234325 -0.37917876]]]\n"
     ]
    },
    {
     "data": {
      "image/png": "[encoded data removed]",
      "text/plain": [
       "<matplotlib.figure.Figure at 0x7f512eb5e588>"
      ]
     },
     "metadata": {},
     "output_type": "display_data"
    }
   ],
   "source": [
    "%matplotlib inline \n",
    "\n",
    "is_plot=True\n",
    "normal_A, normal_Q = ar.train(normal_X_train, order = ar_order)\n",
    "\n",
    "# Feature Vector\n",
    "feature_vector = np.array(normal_A).flatten()\n",
    "print ('Feature Vector:')\n",
    "print (np.array(normal_A))\n",
    "\n",
    "# Plot AR\n",
    "if (is_plot):\n",
    "    fig, ax = plt.subplots(1,len(normal_A), figsize=(10,3))\n",
    "    for i in range(len(normal_A)):\n",
    "        if (len(normal_A) > 1):\n",
    "            ax[i].imshow(normal_A[i], cmap = \"jet\")\n",
    "            ax[i].set_xlabel('A'+str(i))\n",
    "        else:\n",
    "            ax.imshow(normal_A[i], cmap = \"jet\")\n",
    "            ax.set_xlabel('A'+str(i))\n"
   ]
  },
  {
   "cell_type": "markdown",
   "metadata": {
    "heading_collapsed": true
   },
   "source": [
    "#### Test AR"
   ]
  },
  {
   "cell_type": "code",
   "execution_count": null,
   "metadata": {
    "hidden": true
   },
   "outputs": [],
   "source": [
    "Y = ar.test(X_test,A)\n",
    "err = (ar.error(Y,X_test))\n",
    "print (np.mean(err))"
   ]
  },
  {
   "cell_type": "code",
   "execution_count": null,
   "metadata": {
    "code_folding": [],
    "collapsed": true,
    "hidden": true
   },
   "outputs": [],
   "source": []
  },
  {
   "cell_type": "code",
   "execution_count": null,
   "metadata": {
    "collapsed": true,
    "hidden": true
   },
   "outputs": [],
   "source": []
  },
  {
   "cell_type": "markdown",
   "metadata": {},
   "source": [
    "# MRS Videos"
   ]
  },
  {
   "cell_type": "markdown",
   "metadata": {},
   "source": [
    "### Read Inputs"
   ]
  },
  {
   "cell_type": "code",
   "execution_count": 12,
   "metadata": {},
   "outputs": [],
   "source": [
    "mrs_cells_files = [\n",
    "        '/media/narita/Data/Neutrophils/fps_20_frames/2_07052016_Phagocytosis_MRS2578/final'\\\n",
    "                  '/tracking/organized_kalman_output_center_coords.npy',\n",
    "        '/media/narita/Data/Neutrophils/fps_20_frames/6_07072016_Phagocytosis_MRS2578/final' \\\n",
    "                      '/tracking/organized_kalman_output_center_coords.npy'\n",
    "\n",
    "\n",
    "]\n",
    "\n",
    "all_mrs_cells = []\n",
    "for i in range(len(mrs_cells_files)):\n",
    "    mrs_input = np.load(mrs_cells_files[i])\n",
    "    all_mrs_cells.insert(i,mrs_input)\n",
    "\n",
    "all_mrs_cells = np.vstack(all_mrs_cells) \n"
   ]
  },
  {
   "cell_type": "markdown",
   "metadata": {},
   "source": [
    "### Trajectory Plots"
   ]
  },
  {
   "cell_type": "code",
   "execution_count": 13,
   "metadata": {},
   "outputs": [
    {
     "data": {
      "image/png": "[encoded data removed]",
      "text/plain": [
       "<matplotlib.figure.Figure at 0x7f512143dd30>"
      ]
     },
     "metadata": {},
     "output_type": "display_data"
    }
   ],
   "source": [
    "#%matplotlib notebook\n",
    "plot_trajectory_2D(all_mrs_cells.shape[1],False,all_mrs_cells[:,:,0],all_mrs_cells[:,:,1])\n"
   ]
  },
  {
   "cell_type": "markdown",
   "metadata": {},
   "source": [
    "### AR"
   ]
  },
  {
   "cell_type": "markdown",
   "metadata": {},
   "source": [
    "#### Normalize Input"
   ]
  },
  {
   "cell_type": "code",
   "execution_count": 14,
   "metadata": {
    "collapsed": true
   },
   "outputs": [],
   "source": [
    "all_mrs_cells_copy = all_mrs_cells.copy()\n",
    "all_mrs_cells_copy = np.transpose(all_mrs_cells_copy,(1,0,2))\n",
    "all_mrs_cells_copy = all_mrs_cells_copy.reshape(all_mrs_cells_copy.shape[0],all_mrs_cells_copy.shape[1]*all_mrs_cells_copy.shape[2])\n",
    "\n",
    "all_mrs_cells_norm,mrs_norms = normalize(all_mrs_cells_copy,axis=0,return_norm=True)\n"
   ]
  },
  {
   "cell_type": "code",
   "execution_count": null,
   "metadata": {
    "code_folding": [
     0
    ],
    "collapsed": true
   },
   "outputs": [],
   "source": [
    "# If needed, plot again\n",
    "mrs_recon = all_mrs_cells_norm*norms\n",
    "mrs_recon = mrs_recon.reshape(all_mrs_cells_norm.shape[0],int(all_mrs_cells_norm.shape[1]/2),2)\n",
    "mrs_recon = np.transpose(mrs_recon,(1,0,2))\n",
    "plot_trajectory_2D(mrs_recon.shape[1],False,mrs_recon[:,:,0],mrs_recon[:,:,1])\n",
    "\n"
   ]
  },
  {
   "cell_type": "markdown",
   "metadata": {},
   "source": [
    "#### State Space Reduction"
   ]
  },
  {
   "cell_type": "code",
   "execution_count": 15,
   "metadata": {
    "collapsed": true
   },
   "outputs": [],
   "source": [
    "mrs_X,mrs_C,mrs_S,mrs_U = ar.state_space(all_mrs_cells_norm.T, pca_components)"
   ]
  },
  {
   "cell_type": "markdown",
   "metadata": {
    "heading_collapsed": true
   },
   "source": [
    "#### Variance of components"
   ]
  },
  {
   "cell_type": "code",
   "execution_count": null,
   "metadata": {
    "hidden": true
   },
   "outputs": [],
   "source": [
    "tot = sum(mrs_S)\n",
    "var_exp = [(i / tot) * 100 for i in sorted(mrs_S, reverse=True)]\n",
    "cum_var_exp = np.cumsum(var_exp)\n",
    "print ((var_exp))\n",
    "\n",
    "with plt.style.context('seaborn-whitegrid'):\n",
    "    plt.figure(figsize=(6, 4))\n",
    "\n",
    "    plt.bar(range(len(var_exp)), var_exp, alpha=0.5, align='center',\n",
    "            label='individual explained variance')\n",
    "    plt.step(range(len(var_exp)), cum_var_exp, where='mid',\n",
    "             label='cumulative explained variance')\n",
    "    plt.ylabel('Explained variance ratio')\n",
    "    plt.xlabel('Principal components')\n",
    "    plt.legend(loc='best')\n",
    "    plt.tight_layout()\n",
    "plt.show()"
   ]
  },
  {
   "cell_type": "markdown",
   "metadata": {
    "heading_collapsed": true
   },
   "source": [
    "#### Plotting components after PCA"
   ]
  },
  {
   "cell_type": "code",
   "execution_count": null,
   "metadata": {
    "hidden": true
   },
   "outputs": [],
   "source": [
    "# 3D Plot\n",
    "from mpl_toolkits.mplot3d import Axes3D\n",
    "import matplotlib.pyplot as plt\n",
    "#matplotlib notebook\n",
    "\n",
    "fig = plt.figure()\n",
    "ax = fig.add_subplot(111, projection='3d')\n",
    "ax.scatter(mrs_X[0,:], mrs_X[1,:], mrs_X[2,:],  c='r', marker='o')\n",
    "ax.set_xlabel('pc1');ax.set_ylabel('pc2');ax.set_zlabel('pc3');\n",
    "\n",
    "plt.show()"
   ]
  },
  {
   "cell_type": "code",
   "execution_count": null,
   "metadata": {
    "hidden": true
   },
   "outputs": [],
   "source": [
    "#2D Plot\n",
    "%matplotlib inline\n",
    "\n",
    "fig, ax = plt.subplots(1,3, sharey=True, sharex= True, figsize=(10,3))\n",
    "ax[0].scatter(mrs_X[0,:],mrs_X[1,:]);ax[0].set_xlabel('pc1');ax[0].set_ylabel('pc2')\n",
    "ax[1].scatter(mrs_X[1,:],mrs_X[2,:]);ax[1].set_xlabel('pc2');ax[1].set_ylabel('pc3')\n",
    "ax[2].scatter(mrs_X[0,:],mrs_X[2,:]);ax[2].set_xlabel('pc1');ax[2].set_ylabel('pc3')\n"
   ]
  },
  {
   "cell_type": "code",
   "execution_count": null,
   "metadata": {
    "hidden": true
   },
   "outputs": [],
   "source": [
    "#2D Plot\n",
    "%matplotlib inline\n",
    "\n",
    "fig, ax = plt.subplots(1,3,sharex= True, figsize=(15,3))\n",
    "\n",
    "for i in range(3):\n",
    "    ax[i].scatter(range(len(mrs_X[i,:])),mrs_X[i,:]);ax[i].set_xlabel('frames');ax[i].set_ylabel('pc'+str(i))\n",
    "    "
   ]
  },
  {
   "cell_type": "markdown",
   "metadata": {},
   "source": [
    "#### AR Train"
   ]
  },
  {
   "cell_type": "code",
   "execution_count": 16,
   "metadata": {
    "collapsed": true
   },
   "outputs": [],
   "source": [
    "mrs_X_train = mrs_X[:,:]\n",
    "#mrs_X_test = mrs_X[:,50:]"
   ]
  },
  {
   "cell_type": "code",
   "execution_count": 17,
   "metadata": {},
   "outputs": [
    {
     "data": {
      "image/png": "[encoded data removed]",
      "text/plain": [
       "<matplotlib.figure.Figure at 0x7f511d138198>"
      ]
     },
     "metadata": {},
     "output_type": "display_data"
    }
   ],
   "source": [
    "is_plot=True\n",
    "mrs_A, mrs_Q = ar.train(mrs_X_train, order = ar_order)\n",
    "\n",
    "# Feature Vector\n",
    "feature_vector = np.array(mrs_A).flatten()\n",
    "#print ('Feature Vector:')\n",
    "#print (np.array(mrs_A))\n",
    "\n",
    "# Plot AR\n",
    "if (is_plot):\n",
    "    fig, ax = plt.subplots(1,len(mrs_A), figsize=(10,3))\n",
    "    for i in range(len(mrs_A)):\n",
    "        if (len(mrs_A) > 1):\n",
    "            ax[i].imshow(mrs_A[i], cmap = \"jet\")\n",
    "            ax[i].set_xlabel('A'+str(i))\n",
    "        else:\n",
    "            ax.imshow(mrs_A[i], cmap = \"jet\")\n",
    "            ax.set_xlabel('A'+str(i))\n"
   ]
  },
  {
   "cell_type": "markdown",
   "metadata": {
    "heading_collapsed": true
   },
   "source": [
    "#### AR Test"
   ]
  },
  {
   "cell_type": "code",
   "execution_count": null,
   "metadata": {
    "collapsed": true,
    "hidden": true
   },
   "outputs": [],
   "source": [
    "Y = ar.test(mrs_X_test, A)\n",
    "err = ar.error(Y,mrs_X_test)\n",
    "np.mean(err)"
   ]
  },
  {
   "cell_type": "markdown",
   "metadata": {},
   "source": [
    "# Histograms of components of normal, mrs"
   ]
  },
  {
   "cell_type": "code",
   "execution_count": 18,
   "metadata": {},
   "outputs": [
    {
     "data": {
      "image/png": "[encoded data removed]",
      "text/plain": [
       "<matplotlib.figure.Figure at 0x7f512143d3c8>"
      ]
     },
     "metadata": {},
     "output_type": "display_data"
    }
   ],
   "source": [
    "%matplotlib inline\n",
    "pcs = mrs_X.shape[0]\n",
    "f, axarr = plt.subplots(1, pcs,sharey=True, figsize=(15,3))\n",
    "\n",
    "for i in range(pcs):\n",
    "    axarr[i].hist(normal_X[i,:],bins=10, alpha=0.5, label='normal')\n",
    "    axarr[i].hist(mrs_X[i,:],bins=10, alpha=0.5, label='mrs')\n",
    "    axarr[i].legend(loc='upper right')\n",
    "plt.show()\n"
   ]
  },
  {
   "cell_type": "markdown",
   "metadata": {
    "collapsed": true
   },
   "source": [
    "# Noise covariance matrix Q of normal, mrs"
   ]
  },
  {
   "cell_type": "code",
   "execution_count": 19,
   "metadata": {},
   "outputs": [
    {
     "name": "stdout",
     "output_type": "stream",
     "text": [
      "[[ 0.01628149  0.0081875   0.01811215]\n",
      " [ 0.0081875   1.0864067   1.09774752]\n",
      " [ 0.01811215  1.09774752  1.12209067]]\n",
      "\n",
      "[[ 0.00312511  0.00588422  0.00704732]\n",
      " [ 0.00588422  1.44361875  1.44396029]\n",
      " [ 0.00704732  1.44396029  1.44791512]]\n"
     ]
    }
   ],
   "source": [
    "print (normal_Q)\n",
    "print ('')\n",
    "print (mrs_Q)"
   ]
  },
  {
   "cell_type": "code",
   "execution_count": 20,
   "metadata": {},
   "outputs": [
    {
     "name": "stderr",
     "output_type": "stream",
     "text": [
      "/home/narita/anaconda2/envs/pytorchenv/lib/python3.6/site-packages/matplotlib/cbook.py:136: MatplotlibDeprecationWarning: The spectral and spectral_r colormap was deprecated in version 2.0. Use nipy_spectral and nipy_spectral_r instead.\n",
      "  warnings.warn(message, mplDeprecation, stacklevel=1)\n"
     ]
    },
    {
     "data": {
      "text/plain": [
       "<matplotlib.image.AxesImage at 0x7f511c1e1a90>"
      ]
     },
     "execution_count": 20,
     "metadata": {},
     "output_type": "execute_result"
    },
    {
     "data": {
      "image/png": "[encoded data removed]",
      "text/plain": [
       "<matplotlib.figure.Figure at 0x7f511c42a320>"
      ]
     },
     "metadata": {},
     "output_type": "display_data"
    }
   ],
   "source": [
    "%matplotlib inline\n",
    "\n",
    "f, axarr = plt.subplots(1, 2,figsize=(15,3))\n",
    "axarr[0].imshow(normal_Q,cmap='spectral')\n",
    "axarr[1].imshow(mrs_Q,cmap='spectral')"
   ]
  },
  {
   "cell_type": "code",
   "execution_count": 21,
   "metadata": {
    "code_folding": [],
    "collapsed": true
   },
   "outputs": [],
   "source": [
    "def get_eigens(z,is_plot=False):\n",
    "    cov_mat = z\n",
    "    eig_vals, eig_vecs = np.linalg.eig(cov_mat)\n",
    "\n",
    "    print('Eigenvectors \\n%s' % eig_vecs)\n",
    "    print('\\nEigenvalues \\n%s' % eig_vals)\n",
    "\n",
    "    for ev in eig_vecs:\n",
    "        np.testing.assert_array_almost_equal(1.0, np.linalg.norm(ev))\n",
    "    print('Everything ok!')\n",
    "    print ('')\n",
    "\n",
    "    # Make a list of (eigenvalue, eigenvector) tuples\n",
    "    eig_pairs = [(np.abs(eig_vals[i]), eig_vecs[:, i]) for i in range(len(eig_vals))]\n",
    "\n",
    "    # Sort the (eigenvalue, eigenvector) tuples from high to low\n",
    "    eig_pairs.sort(key=lambda x: x[0], reverse=True)\n",
    "\n",
    "    #Visually confirm that the list is correctly sorted by decreasing eigenvalues\n",
    "    print('Eigenvalues in descending order:')\n",
    "    for i in eig_pairs:\n",
    "        print(i[0])\n",
    "\n",
    "    tot = sum(eig_vals)\n",
    "    var_exp = [(i / tot) * 100 for i in sorted(eig_vals, reverse=True)]\n",
    "    cum_var_exp = np.cumsum(var_exp)\n",
    "    print ((var_exp))\n",
    "\n",
    "    if (is_plot):\n",
    "        with plt.style.context('seaborn-whitegrid'):\n",
    "            plt.figure(figsize=(6, 4))\n",
    "\n",
    "            plt.bar(range(len(var_exp)), var_exp, alpha=0.5, align='center',\n",
    "                    label='individual explained variance')\n",
    "            plt.step(range(len(var_exp)), cum_var_exp, where='mid',\n",
    "                     label='cumulative explained variance')\n",
    "            plt.ylabel('Explained variance ratio')\n",
    "            plt.xlabel('Principal components')\n",
    "            plt.legend(loc='best')\n",
    "            plt.tight_layout()\n",
    "        plt.show()\n",
    "\n",
    "\n"
   ]
  },
  {
   "cell_type": "code",
   "execution_count": 22,
   "metadata": {},
   "outputs": [
    {
     "name": "stdout",
     "output_type": "stream",
     "text": [
      "Normal\n",
      "Eigenvectors \n",
      "[[-0.00853267 -0.88866304 -0.4584814 ]\n",
      " [-0.70129306  0.3321575  -0.630761  ]\n",
      " [-0.71282203 -0.31614775  0.62604741]]\n",
      "\n",
      "Eigenvalues \n",
      "[ 2.20230036  0.01966475  0.00281375]\n",
      "Everything ok!\n",
      "\n",
      "Eigenvalues in descending order:\n",
      "2.20230035799\n",
      "0.0196647462492\n",
      "0.00281375410519\n",
      "[98.98962990096048, 0.8838966702473704, 0.12647342879214141]\n",
      "\n",
      "Abnormal\n",
      "Eigenvectors \n",
      "[[-0.0031679  -0.90016493 -0.43553766]\n",
      " [-0.70657642  0.31021737 -0.63601489]\n",
      " [-0.70762965 -0.30572582  0.63701806]]\n",
      "\n",
      "Eigenvalues \n",
      "[  2.88975779e+00   3.49077771e-03   1.41040695e-03]\n",
      "Everything ok!\n",
      "\n",
      "Eigenvalues in descending order:\n",
      "2.88975779415\n",
      "0.00349077770669\n",
      "0.00141040694738\n",
      "[99.830681793953502, 0.12059374635340304, 0.048724459693104565]\n"
     ]
    }
   ],
   "source": [
    "print ('Normal')\n",
    "get_eigens(normal_Q)\n",
    "print ('')\n",
    "\n",
    "print ('Abnormal')\n",
    "get_eigens(mrs_Q)"
   ]
  },
  {
   "cell_type": "markdown",
   "metadata": {},
   "source": [
    "# Synthesize"
   ]
  },
  {
   "cell_type": "markdown",
   "metadata": {},
   "source": [
    "### Multi-Step Out-of-Sample Forecast\n",
    "\n",
    "This forecast randomly selects a starting point and forecasts predict_states time steps ahead in the sequence from the available data used to fit the model."
   ]
  },
  {
   "cell_type": "markdown",
   "metadata": {},
   "source": [
    "#### Intialize Vars"
   ]
  },
  {
   "cell_type": "code",
   "execution_count": 27,
   "metadata": {},
   "outputs": [],
   "source": [
    "cls = 'mrs'\n",
    "if (cls == 'normal'):\n",
    "    input_X = normal_X_train\n",
    "    A = normal_A\n",
    "    Q = normal_Q\n",
    "    C = normal_C\n",
    "    norm = normal_norms\n",
    "    \n",
    "\n",
    "else:\n",
    "    \n",
    "    input_X = mrs_X_train\n",
    "    A = mrs_A\n",
    "    Q = mrs_Q\n",
    "    C = mrs_C\n",
    "    norm = mrs_norms\n",
    "\n",
    "\n",
    "\n",
    "predict_states = 10"
   ]
  },
  {
   "cell_type": "code",
   "execution_count": 28,
   "metadata": {},
   "outputs": [
    {
     "name": "stdout",
     "output_type": "stream",
     "text": [
      "3\n",
      "(3, 2)\n",
      "(3, 10)\n",
      "(3, 12)\n"
     ]
    }
   ],
   "source": [
    "import random\n",
    "\n",
    "selected_index = random.randrange(0, 5, 1)\n",
    "print (selected_index)\n",
    "\n",
    "X_subsample = input_X[:,selected_index:selected_index+2]\n",
    "orig_X, predicted_X,orig_predicted,orig_recon = predict(X_subsample,A,predict_states=predict_states)\n",
    "\n",
    "print (orig_X.shape)\n",
    "print (predicted_X.shape)\n",
    "print (orig_predicted.shape)"
   ]
  },
  {
   "cell_type": "markdown",
   "metadata": {},
   "source": [
    "#### Just making sure that the predictions are from the same subspace"
   ]
  },
  {
   "cell_type": "code",
   "execution_count": null,
   "metadata": {},
   "outputs": [],
   "source": [
    "%matplotlib inline\n",
    "\n",
    "X_in_copy = input_X.T.copy()\n",
    "f, axarr = plt.subplots(1, predicted_X.shape[0],figsize=(15,3),sharex=True)\n",
    "for i in range(predicted_X.shape[0]):\n",
    "    X_in = X_in_copy[:,i]\n",
    "    pc = list(predicted_X[i,:])\n",
    "    axarr[i].hist(X_in,alpha=0.5)\n",
    "    axarr[i].set_xlabel('component_'+(str(i+1)))\n",
    "    axarr[i].scatter(pc,np.ones(len(pc)),color='r')\n",
    "\n",
    "plt.show()\n"
   ]
  },
  {
   "cell_type": "code",
   "execution_count": 29,
   "metadata": {},
   "outputs": [
    {
     "data": {
      "image/png": "[encoded data removed]",
      "text/plain": [
       "<matplotlib.figure.Figure at 0x7f5121a7f0b8>"
      ]
     },
     "metadata": {},
     "output_type": "display_data"
    },
    {
     "data": {
      "image/png": "[encoded data removed]",
      "text/plain": [
       "<matplotlib.figure.Figure at 0x7f5122ec3978>"
      ]
     },
     "metadata": {},
     "output_type": "display_data"
    }
   ],
   "source": [
    "X_train_copy = input_X.copy()\n",
    "orig_pixel_space = ar.appearance_space(X_train_copy,C)\n",
    "\n",
    "orig_image_space = (orig_pixel_space.T * norm).T\n",
    "orig_image_space = np.reshape(orig_image_space,(int(orig_image_space.shape[0]/2),2,orig_image_space.shape[1]))\n",
    "orig_image_space = np.transpose(orig_image_space,(0,2,1))\n",
    "\n",
    "predicted_copy = orig_predicted.copy()\n",
    "predicted_pixel_space = ar.appearance_space(predicted_copy,C)\n",
    "predicted_image_space = (predicted_pixel_space.T * norm).T\n",
    "predicted_image_space = np.reshape(predicted_image_space,(int(predicted_image_space.shape[0]/2),2,predicted_image_space.shape[1]))\n",
    "predicted_image_space = np.transpose(predicted_image_space,(0,2,1))\n",
    "\n",
    "frame_num = orig_image_space.shape[1]\n",
    "is_one = False\n",
    "currentX = orig_image_space[:,:,0]\n",
    "currentY = orig_image_space[:,:,1]\n",
    "\n",
    "\n",
    "cxx = predicted_image_space[:,:,0]\n",
    "cyy = predicted_image_space[:,:,1]\n",
    "\n",
    "\n",
    "plot_trajectory_2D(frame_num,is_one,currentX,currentY,cxx,cyy,scatter_plot=True)\n",
    "plot_trajectory_2D(frame_num,is_one,currentX,currentY,None,None,scatter_plot=True)\n",
    "\n",
    "\n"
   ]
  },
  {
   "cell_type": "code",
   "execution_count": 30,
   "metadata": {},
   "outputs": [
    {
     "name": "stdout",
     "output_type": "stream",
     "text": [
      "/media/narita/Data/Neutrophils/fps_20_frames/average_motion_model/ar_generated_center_coords_mrs.npy saved!\n"
     ]
    }
   ],
   "source": [
    "predicted_outputs = predicted_image_space.copy()\n",
    "path = '/media/narita/Data/Neutrophils/fps_20_frames/average_motion_model' \\\n",
    "                      '/ar_generated_center_coords_'+cls+'.npy'\n",
    "\n",
    "np.save(path,predicted_outputs)\n",
    "print (path+' saved!')"
   ]
  },
  {
   "cell_type": "markdown",
   "metadata": {
    "heading_collapsed": true
   },
   "source": [
    "### One-Step Out-of-Sample Forecast\n",
    "\n",
    "A one-step forecast is a forecast of the very next time step in the sequence from the available data used to fit the model."
   ]
  },
  {
   "cell_type": "code",
   "execution_count": null,
   "metadata": {
    "hidden": true
   },
   "outputs": [],
   "source": [
    "total_frames = input_X.shape[1]\n",
    "selected_index = total_frames - ar_order \n",
    "print (selected_index)\n",
    "\n",
    "X_subsample = input_X[:,selected_index:selected_index+2]\n",
    "orig_X, predicted_X,orig_predicted,orig_recon = predict(X_subsample,A,predict_states=1)\n",
    "\n",
    "print (orig_X.shape)\n",
    "print (predicted_X.shape)\n",
    "print (orig_predicted.shape)"
   ]
  },
  {
   "cell_type": "code",
   "execution_count": null,
   "metadata": {
    "hidden": true
   },
   "outputs": [],
   "source": [
    "X_train_copy = input_X.copy()\n",
    "orig_pixel_space = ar.appearance_space(X_train_copy,C)\n",
    "\n",
    "orig_image_space = (orig_pixel_space.T * norm).T\n",
    "orig_image_space = np.reshape(orig_image_space,(int(orig_image_space.shape[0]/2),2,orig_image_space.shape[1]))\n",
    "orig_image_space = np.transpose(orig_image_space,(0,2,1))\n",
    "\n",
    "predicted_copy = orig_predicted.copy()\n",
    "predicted_pixel_space = ar.appearance_space(predicted_copy,C)\n",
    "predicted_image_space = (predicted_pixel_space.T * norm).T\n",
    "predicted_image_space = np.reshape(predicted_image_space,(int(predicted_image_space.shape[0]/2),2,predicted_image_space.shape[1]))\n",
    "predicted_image_space = np.transpose(predicted_image_space,(0,2,1))\n",
    "\n",
    "frame_num = orig_image_space.shape[1]\n",
    "is_one = False\n",
    "currentX = orig_image_space[:,:,0]\n",
    "currentY = orig_image_space[:,:,1]\n",
    "\n",
    "\n",
    "cxx = predicted_image_space[:,:,0]\n",
    "cyy = predicted_image_space[:,:,1]\n",
    "\n",
    "\n",
    "plot_trajectory_2D(frame_num,is_one,currentX,currentY,cxx,cyy,scatter_plot=True)\n",
    "plot_trajectory_2D(frame_num,is_one,currentX,currentY,None,None,scatter_plot=True)\n",
    "\n",
    "\n"
   ]
  },
  {
   "cell_type": "code",
   "execution_count": null,
   "metadata": {
    "collapsed": true,
    "hidden": true
   },
   "outputs": [],
   "source": []
  }
 ],
 "metadata": {
  "kernelspec": {
   "display_name": "Python 3",
   "language": "python",
   "name": "python3"
  },
  "language_info": {
   "codemirror_mode": {
    "name": "ipython",
    "version": 3
   },
   "file_extension": ".py",
   "mimetype": "text/x-python",
   "name": "python",
   "nbconvert_exporter": "python",
   "pygments_lexer": "ipython3",
   "version": "3.6.1"
  }
 },
 "nbformat": 4,
 "nbformat_minor": 2
}
