{
 "cells": [
  {
   "cell_type": "markdown",
   "metadata": {
    "heading_collapsed": true
   },
   "source": [
    "## Imports"
   ]
  },
  {
   "cell_type": "code",
   "execution_count": null,
   "metadata": {
    "code_folding": [],
    "collapsed": true,
    "hidden": true
   },
   "outputs": [],
   "source": [
    "# Required imports\n",
    "\n",
    "from __future__ import division\n",
    "import numpy as np\n",
    "import sys\n",
    "from sys import platform as sys_pf\n",
    "if sys_pf == 'Darwin':\n",
    "    import matplotlib\n",
    "    matplotlib.use(\"TkAgg\")\n",
    "\n",
    "from mpl_toolkits.mplot3d import Axes3D\n",
    "from matplotlib import pyplot as plt\n",
    "from matplotlib import animation\n",
    "import math\n",
    "import ar\n",
    "from sklearn.preprocessing import normalize\n",
    "import pandas as pd\n",
    "from pandas import Series, DataFrame, Panel\n",
    "import seaborn as sns\n",
    "import scipy.signal"
   ]
  },
  {
   "cell_type": "markdown",
   "metadata": {
    "heading_collapsed": true
   },
   "source": [
    "## Helper Functions"
   ]
  },
  {
   "cell_type": "markdown",
   "metadata": {
    "heading_collapsed": true,
    "hidden": true
   },
   "source": [
    "### Plotting functions"
   ]
  },
  {
   "cell_type": "code",
   "execution_count": null,
   "metadata": {
    "code_folding": [],
    "collapsed": true,
    "hidden": true
   },
   "outputs": [],
   "source": [
    "def plot_trajectory_2D(n, is_one, x, y,cxx=None,cyy=None, step=1, scatter_plot=False,title='MUST'):\n",
    "    \"\"\"************************************************************** \n",
    "    n:        no_of_frames to plot\n",
    "    is_one:   True:  Single object's trajectory\n",
    "              False: Multiple object's trajectories\n",
    "    step:     step_size\n",
    "    x,y:      Coordinates to plot\n",
    "    **************************************************************\"\"\"\n",
    "    if is_one:\n",
    "        traj_points = 1\n",
    "        T = np.linspace(0,1,x.shape[0])\n",
    "\n",
    "    else : \n",
    "        traj_points = x.shape[0]\n",
    "        T = np.linspace(0,1,traj_points)\n",
    "\n",
    "    fig = plt.figure()\n",
    "    ax = fig.add_subplot(111)\n",
    "    s = step\n",
    "    plt.gca().invert_yaxis()\n",
    "    for index in range(traj_points): \n",
    "        for i in range(0,n-s,s):\n",
    "            if is_one : \n",
    "                ax.plot(x[i:i+s+1],y[i:i+s+1],linewidth=3)\n",
    "            else : \n",
    "                \n",
    "                cx = x[index]\n",
    "                cy = y[index]\n",
    "                if (scatter_plot):\n",
    "                    ax.scatter(cx[i:i+s+1],cy[i:i+s+1],color='b')\n",
    "                else:\n",
    "                    ax.plot(cx[i:i+s+1],cy[i:i+s+1],linewidth=3,color='b')\n",
    "    if (cxx is not None):\n",
    "        n=cxx.shape[1]\n",
    "        for index in range(traj_points): \n",
    "            for i in range(0,n-s,s):\n",
    "                if is_one : \n",
    "                    ax.plot(x[i:i+s+1],y[i:i+s+1],linewidth=3)\n",
    "                else : \n",
    "\n",
    "                    cx = cxx[index]\n",
    "                    cy = cyy[index]\n",
    "                    if (scatter_plot):\n",
    "                        ax.scatter(cx[i:i+s+1],cy[i:i+s+1],color='r')\n",
    "                    else:\n",
    "                        ax.plot(cx[i:i+s+1],cy[i:i+s+1],linewidth=3,color='r')\n",
    "\n",
    "    ax.set_xlabel('x')\n",
    "    ax.set_ylabel('y')\n",
    "    ax.set_title(title)\n",
    "    plt.show()"
   ]
  },
  {
   "cell_type": "code",
   "execution_count": null,
   "metadata": {
    "code_folding": [
     0
    ],
    "collapsed": true,
    "hidden": true
   },
   "outputs": [],
   "source": [
    "def plot_trajectory_3D(n, is_one, x, y, z, step=1):\n",
    "    \"\"\"************************************************************** \n",
    "    n:        no_of_frames to plot\n",
    "    is_one:   True:  Single object's trajectory\n",
    "              False: Multiple object's trajectories\n",
    "    step:     step_size\n",
    "    x,y:      Coordinates to plot\n",
    "    **************************************************************\"\"\"\n",
    "    \n",
    "    fig = plt.figure() \n",
    "    ax = fig.add_subplot(111, projection='3d')\n",
    "    plt.gca().invert_yaxis()\n",
    "    \n",
    "\n",
    "    if is_one :\n",
    "        traj_points = 1\n",
    "        T = np.linspace(0,1,x.shape[0])\n",
    "\n",
    "    else : \n",
    "        traj_points = x.shape[0]\n",
    "        T = np.linspace(0,1,traj_points)\n",
    "\n",
    "    s = step\n",
    "    for index in range(traj_points):\n",
    "        for j in range(0, n-s, s):\n",
    "            if is_one :             \n",
    "                ax.plot(x[j:j+s+1],y[j:j+s+1],z[j:j+s+1],linewidth=2)\n",
    "            else : \n",
    "                cx = x[index]\n",
    "                cy = y[index]\n",
    "                cz = z\n",
    "                ax.plot(cx[j:j+s+1],cy[j:j+s+1],cz[j:j+s+1],linewidth=2,color=(0.0,0.0,T[index]))\n",
    "\n",
    "\n",
    "    ax.set_xlabel('x')\n",
    "    ax.set_ylabel('y')\n",
    "    ax.set_zlabel('z')\n",
    "\n",
    "    plt.show()"
   ]
  },
  {
   "cell_type": "markdown",
   "metadata": {
    "heading_collapsed": true,
    "hidden": true
   },
   "source": [
    "### Predict functionality for AR"
   ]
  },
  {
   "cell_type": "code",
   "execution_count": null,
   "metadata": {
    "code_folding": [],
    "collapsed": true,
    "hidden": true
   },
   "outputs": [],
   "source": [
    "def predict(X, A, Q,order=2, predict_states=1):\n",
    "    try:\n",
    "        Xnext = np.zeros((X.shape[0],X.shape[1]+predict_states))\n",
    "        Xnext[:, :order] = X[:, :order]\n",
    "\n",
    "\n",
    "        #Assuming np.size(X, axis = 1) = order\n",
    "        for p in range(np.size(X, axis = 1),np.size(X, axis = 1)+predict_states):\n",
    "            for j in range(0, order):\n",
    "                Xnext[:, p] +=np.dot(A[j], Xnext[:, p - j - 1])\n",
    "    \n",
    "        orig_X = Xnext[:,:order]\n",
    "        next_X = Xnext[:,order:]\n",
    "        Xnext_mean = Xnext - np.mean(Xnext, axis = 0)\n",
    "        return orig_X, next_X, Xnext, Xnext_mean\n",
    "    except:\n",
    "        print (\"Unexpected error:\", sys.exc_info())\n",
    "        print('Error on line {}'.format(sys.exc_info()[-1].tb_lineno))\n",
    "\n",
    "        "
   ]
  },
  {
   "cell_type": "markdown",
   "metadata": {
    "heading_collapsed": true
   },
   "source": [
    "## AR model for normal cells"
   ]
  },
  {
   "cell_type": "markdown",
   "metadata": {
    "hidden": true
   },
   "source": [
    "Below blocks train AR model. The steps to train are:\n",
    "\n",
    "    1. Read the input. Reshape it according to the way we wish to train the model.\n",
    "    We wanted to create an aggregate model of the motion of neutrophils belonging to \n",
    "    the same class i.e. Normal/Inhibited. In our case, the input was of the following\n",
    "    dimensions: 34 x 61 x 2. 34 - objects, 61 - frames, 2 - center x,y coordinates. \n",
    "    To build an aggregate model of 34 objects, we reshaped it to: 61 x 68.\n",
    "        \n",
    "    2. Normalize / Standardize the inputs\n",
    "    \n",
    "    3. Project this high-dimeNsional data into low-dimensional space, using PCA.\n",
    "    \n",
    "    4. Invoke ar.train()\n",
    "    \n",
    "    5. Invoke ar.test()"
   ]
  },
  {
   "cell_type": "markdown",
   "metadata": {
    "heading_collapsed": true,
    "hidden": true
   },
   "source": [
    "### Step 1: Read inputs"
   ]
  },
  {
   "cell_type": "markdown",
   "metadata": {
    "hidden": true
   },
   "source": [
    "This block just reads all the trajectories from input files. It also stacks the trajectories of all objects. For eg: If we have 20 objects, trajectories length: 100 frames and each object is represented by its center x,y coordinates, output will be: 20 x 100 x 2."
   ]
  },
  {
   "cell_type": "code",
   "execution_count": null,
   "metadata": {
    "code_folding": [],
    "collapsed": true,
    "hidden": true
   },
   "outputs": [],
   "source": [
    "\n",
    "normal_cells_files = [\n",
    "        '/media/narita/Data/Neutrophils/fps_20_frames/1_07052016_Phagocytosis/final' \\\n",
    "                      '/tracking/organized_kalman_output_center_coords.npy',\n",
    "        '/media/narita/Data/Neutrophils/fps_20_frames/5_07072016_Phagocytosis_DMSO/final' \\\n",
    "                      '/tracking/organized_kalman_output_center_coords.npy'\n",
    "\n",
    "\n",
    "]\n",
    "\n",
    "all_normal_cells = []\n",
    "for i in range(len(normal_cells_files)):\n",
    "    normal_input = np.load(normal_cells_files[i])\n",
    "    all_normal_cells.insert(i,normal_input)\n",
    "\n",
    "all_normal_cells = np.vstack(all_normal_cells) \n"
   ]
  },
  {
   "cell_type": "markdown",
   "metadata": {
    "hidden": true
   },
   "source": [
    "#### Trajectory Plots"
   ]
  },
  {
   "cell_type": "markdown",
   "metadata": {
    "hidden": true
   },
   "source": [
    "Just plotting the stacked input to make sure trajectories look correct."
   ]
  },
  {
   "cell_type": "code",
   "execution_count": null,
   "metadata": {
    "hidden": true
   },
   "outputs": [],
   "source": [
    "is_one = False\n",
    "plot_trajectory_2D(all_normal_cells.shape[1],is_one,all_normal_cells[:,:,0],all_normal_cells[:,:,1],title='Normal')\n"
   ]
  },
  {
   "cell_type": "markdown",
   "metadata": {
    "heading_collapsed": true,
    "hidden": true
   },
   "source": [
    "### Step 2: Normalize Inputs"
   ]
  },
  {
   "cell_type": "code",
   "execution_count": null,
   "metadata": {
    "collapsed": true,
    "hidden": true
   },
   "outputs": [],
   "source": [
    "all_normal_cells_copy = all_normal_cells.copy()\n",
    "all_normal_cells_copy = np.transpose(all_normal_cells_copy,(1,0,2))\n",
    "all_normal_cells_copy = all_normal_cells_copy.reshape(all_normal_cells_copy.shape[0],all_normal_cells_copy.shape[1]*all_normal_cells_copy.shape[2])\n",
    "all_normal_cells_norm,normal_norms = normalize(all_normal_cells_copy,axis=0,return_norm=True)\n"
   ]
  },
  {
   "cell_type": "code",
   "execution_count": null,
   "metadata": {
    "code_folding": [],
    "hidden": true,
    "scrolled": true
   },
   "outputs": [],
   "source": [
    "# If needed, plot again\n",
    "recon = all_normal_cells_norm*normal_norms\n",
    "recon = recon.reshape(all_normal_cells_copy.shape[0],int(all_normal_cells_copy.shape[1]/2),2)\n",
    "recon = np.transpose(recon,(1,0,2))\n",
    "plot_trajectory_2D(recon.shape[1],False,recon[:,:,0],recon[:,:,1],title='Normal')\n",
    "\n"
   ]
  },
  {
   "cell_type": "markdown",
   "metadata": {
    "heading_collapsed": true,
    "hidden": true
   },
   "source": [
    "### Step 3: State Space reduction - PCA"
   ]
  },
  {
   "cell_type": "code",
   "execution_count": null,
   "metadata": {
    "hidden": true
   },
   "outputs": [],
   "source": [
    "pca_components = 3\n",
    "normal_X,normal_C,normal_S,normal_U = ar.state_space(all_normal_cells_norm.T,pca_components)\n"
   ]
  },
  {
   "cell_type": "markdown",
   "metadata": {
    "hidden": true
   },
   "source": [
    "#### Variance of components"
   ]
  },
  {
   "cell_type": "markdown",
   "metadata": {
    "hidden": true
   },
   "source": [
    "Intutively, this block plots how much information is captured by every principal \n",
    "component. This helps us to decide on the number of principal components to use."
   ]
  },
  {
   "cell_type": "code",
   "execution_count": null,
   "metadata": {
    "hidden": true
   },
   "outputs": [],
   "source": [
    "diag_S = np.diag(normal_S)\n",
    "tot = sum(diag_S)\n",
    "var_exp = [(i / tot) * 100 for i in sorted(diag_S, reverse=True)]\n",
    "cum_var_exp = np.cumsum(var_exp)\n",
    "print ((var_exp))\n",
    "\n",
    "with plt.style.context('seaborn-whitegrid'):\n",
    "    plt.figure(figsize=(6, 4))\n",
    "\n",
    "    plt.bar(range(len(var_exp)), var_exp, alpha=0.5, align='center',\n",
    "            label='individual explained variance')\n",
    "    plt.step(range(len(var_exp)), cum_var_exp, where='mid',\n",
    "             label='cumulative explained variance')\n",
    "    plt.ylabel('Explained variance ratio')\n",
    "    plt.xlabel('Principal components')\n",
    "    plt.legend(loc='best')\n",
    "    plt.tight_layout()\n",
    "plt.show()"
   ]
  },
  {
   "cell_type": "markdown",
   "metadata": {
    "heading_collapsed": true,
    "hidden": true
   },
   "source": [
    "### Step 4: Train AR"
   ]
  },
  {
   "cell_type": "code",
   "execution_count": null,
   "metadata": {
    "hidden": true
   },
   "outputs": [],
   "source": [
    "normal_X_train = normal_X[:,:]\n",
    "#X_test = normal_X[:,55:]\n",
    "#print (normal_X_train.shape)\n",
    "#print (X_test.shape)"
   ]
  },
  {
   "cell_type": "code",
   "execution_count": null,
   "metadata": {
    "collapsed": true,
    "hidden": true
   },
   "outputs": [],
   "source": [
    "%matplotlib inline\n",
    "\n",
    "#ar_order is the number of past states to be used to predict next state.\n",
    "ar_order = 2\n",
    "is_plot=False\n",
    "normal_A, normal_Q, r = ar.train(normal_X_train, order = ar_order)\n",
    "r = np.array(r)\n",
    "r_mean = np.mean(r,axis=0)\n",
    "\n",
    "# Feature Vector\n",
    "feature_vector = np.array(normal_A).flatten()\n",
    "print ('Feature Vector:')\n",
    "print (np.array(normal_A))\n",
    "\n",
    "# Plot AR\n",
    "if (is_plot):\n",
    "    fig, ax = plt.subplots(1,len(normal_A), figsize=(10,3))\n",
    "    for i in range(len(normal_A)):\n",
    "        if (len(normal_A) > 1):\n",
    "            ax[i].imshow(normal_A[i], cmap = \"Blues\")\n",
    "            ax[i].set_xlabel('A'+str(i))\n",
    "        else:\n",
    "            ax.imshow(normal_A[i], cmap = \"Blues\")\n",
    "            ax.set_xlabel('A'+str(i))\n",
    "            "
   ]
  },
  {
   "cell_type": "markdown",
   "metadata": {
    "heading_collapsed": true,
    "hidden": true
   },
   "source": [
    "### Step 5: Test AR"
   ]
  },
  {
   "cell_type": "code",
   "execution_count": null,
   "metadata": {
    "collapsed": true,
    "hidden": true
   },
   "outputs": [],
   "source": [
    "Yhat = ar.test(X_test,normal_A, normal_Q)\n",
    "err = (ar.error(Yhat,X_test))\n",
    "print (np.mean(err))"
   ]
  },
  {
   "cell_type": "markdown",
   "metadata": {
    "heading_collapsed": true
   },
   "source": [
    "## AR model for MRS inhibted cells."
   ]
  },
  {
   "cell_type": "markdown",
   "metadata": {
    "hidden": true
   },
   "source": [
    "Following the same 5 steps for inhibted cells."
   ]
  },
  {
   "cell_type": "markdown",
   "metadata": {
    "heading_collapsed": true,
    "hidden": true
   },
   "source": [
    "### Step 1: Read Inputs"
   ]
  },
  {
   "cell_type": "code",
   "execution_count": null,
   "metadata": {
    "collapsed": true,
    "hidden": true
   },
   "outputs": [],
   "source": [
    "mrs_cells_files = [\n",
    "        '/media/narita/Data/Neutrophils/fps_20_frames/2_07052016_Phagocytosis_MRS2578/final'\\\n",
    "                  '/tracking/organized_kalman_output_center_coords.npy',\n",
    "        '/media/narita/Data/Neutrophils/fps_20_frames/6_07072016_Phagocytosis_MRS2578/final' \\\n",
    "                      '/tracking/organized_kalman_output_center_coords.npy'\n",
    "\n",
    "\n",
    "]\n",
    "\n",
    "all_mrs_cells = []\n",
    "for i in range(len(mrs_cells_files)):\n",
    "    mrs_input = np.load(mrs_cells_files[i])\n",
    "    all_mrs_cells.insert(i,mrs_input)\n",
    "\n",
    "all_mrs_cells = np.vstack(all_mrs_cells) \n"
   ]
  },
  {
   "cell_type": "markdown",
   "metadata": {
    "hidden": true
   },
   "source": [
    "#### Plot trajectories"
   ]
  },
  {
   "cell_type": "code",
   "execution_count": null,
   "metadata": {
    "collapsed": true,
    "hidden": true
   },
   "outputs": [],
   "source": [
    "plot_trajectory_2D(all_mrs_cells.shape[1],False,all_mrs_cells[:,:,0],all_mrs_cells[:,:,1])\n"
   ]
  },
  {
   "cell_type": "markdown",
   "metadata": {
    "hidden": true
   },
   "source": [
    "### Step 2: Normalize Input"
   ]
  },
  {
   "cell_type": "code",
   "execution_count": null,
   "metadata": {
    "collapsed": true,
    "hidden": true
   },
   "outputs": [],
   "source": [
    "all_mrs_cells_copy = all_mrs_cells.copy()\n",
    "all_mrs_cells_copy = np.transpose(all_mrs_cells_copy,(1,0,2))\n",
    "all_mrs_cells_copy = all_mrs_cells_copy.reshape(all_mrs_cells_copy.shape[0],all_mrs_cells_copy.shape[1]*all_mrs_cells_copy.shape[2])\n",
    "\n",
    "all_mrs_cells_norm,mrs_norms = normalize(all_mrs_cells_copy,axis=0,return_norm=True)\n"
   ]
  },
  {
   "cell_type": "code",
   "execution_count": null,
   "metadata": {
    "code_folding": [],
    "collapsed": true,
    "hidden": true
   },
   "outputs": [],
   "source": [
    "# If needed, plot again\n",
    "mrs_recon = all_mrs_cells_norm*mrs_norms\n",
    "mrs_recon = mrs_recon.reshape(all_mrs_cells_norm.shape[0],int(all_mrs_cells_norm.shape[1]/2),2)\n",
    "mrs_recon = np.transpose(mrs_recon,(1,0,2))\n",
    "plot_trajectory_2D(mrs_recon.shape[1],False,mrs_recon[:,:,0],mrs_recon[:,:,1],title='Inhibited')\n",
    "\n"
   ]
  },
  {
   "cell_type": "markdown",
   "metadata": {
    "hidden": true
   },
   "source": [
    "### Step 3: State Space Reduction"
   ]
  },
  {
   "cell_type": "code",
   "execution_count": null,
   "metadata": {
    "collapsed": true,
    "hidden": true
   },
   "outputs": [],
   "source": [
    "pca_components = 3\n",
    "mrs_X,mrs_C,mrs_S,mrs_U = ar.state_space(all_mrs_cells_norm.T, pca_components)"
   ]
  },
  {
   "cell_type": "markdown",
   "metadata": {
    "hidden": true
   },
   "source": [
    "#### Variance of components"
   ]
  },
  {
   "cell_type": "code",
   "execution_count": null,
   "metadata": {
    "collapsed": true,
    "hidden": true
   },
   "outputs": [],
   "source": [
    "diag_S = np.diag(mrs_S)\n",
    "tot = sum(diag_S)\n",
    "var_exp = [(i / tot) * 100 for i in sorted(diag_S, reverse=True)]\n",
    "cum_var_exp = np.cumsum(var_exp)\n",
    "print ((var_exp))\n",
    "\n",
    "with plt.style.context('seaborn-whitegrid'):\n",
    "    plt.figure(figsize=(6, 4))\n",
    "\n",
    "    plt.bar(range(len(var_exp)), var_exp, alpha=0.5, align='center',\n",
    "            label='individual explained variance')\n",
    "    plt.step(range(len(var_exp)), cum_var_exp, where='mid',\n",
    "             label='cumulative explained variance')\n",
    "    plt.ylabel('Explained variance ratio')\n",
    "    plt.xlabel('Principal components')\n",
    "    plt.legend(loc='best')\n",
    "    plt.tight_layout()\n",
    "plt.show()"
   ]
  },
  {
   "cell_type": "markdown",
   "metadata": {
    "heading_collapsed": true,
    "hidden": true
   },
   "source": [
    "### Step 4: AR Train"
   ]
  },
  {
   "cell_type": "code",
   "execution_count": null,
   "metadata": {
    "collapsed": true,
    "hidden": true
   },
   "outputs": [],
   "source": [
    "mrs_X_train = mrs_X[:,:]\n",
    "#mrs_X_test = mrs_X[:,50:]"
   ]
  },
  {
   "cell_type": "code",
   "execution_count": null,
   "metadata": {
    "collapsed": true,
    "hidden": true
   },
   "outputs": [],
   "source": [
    "is_plot=True\n",
    "ar_order = 2\n",
    "mrs_A, mrs_Q, r = ar.train(mrs_X_train, order = ar_order)\n",
    "\n",
    "# Feature Vector\n",
    "feature_vector = np.array(mrs_A).flatten()\n",
    "#print ('Feature Vector:')\n",
    "#print (np.array(mrs_A))\n",
    "\n",
    "# Plot AR\n",
    "if (is_plot):\n",
    "    fig, ax = plt.subplots(1,len(mrs_A), figsize=(10,3))\n",
    "    for i in range(len(mrs_A)):\n",
    "        if (len(mrs_A) > 1):\n",
    "            ax[i].imshow(mrs_A[i], cmap = \"Blues\")\n",
    "            ax[i].set_xlabel('A'+str(i))\n",
    "        else:\n",
    "            ax.imshow(mrs_A[i], cmap = \"Blues\")\n",
    "            ax.set_xlabel('A'+str(i))\n"
   ]
  },
  {
   "cell_type": "markdown",
   "metadata": {
    "heading_collapsed": true,
    "hidden": true
   },
   "source": [
    "### Step 5: AR Test"
   ]
  },
  {
   "cell_type": "code",
   "execution_count": null,
   "metadata": {
    "collapsed": true,
    "hidden": true
   },
   "outputs": [],
   "source": [
    "Y = ar.test(mrs_X_test, A)\n",
    "err = ar.error(Y,mrs_X_test)\n",
    "np.mean(err)"
   ]
  },
  {
   "cell_type": "markdown",
   "metadata": {
    "heading_collapsed": true
   },
   "source": [
    "## Histograms of components of normal, mrs"
   ]
  },
  {
   "cell_type": "markdown",
   "metadata": {
    "hidden": true
   },
   "source": [
    "Below block plots the values taken by principal components of normal and inhibited \n",
    "cells. This shows that there is a stark difference in the distribution of values \n",
    "for normal and inhibited cells."
   ]
  },
  {
   "cell_type": "code",
   "execution_count": null,
   "metadata": {
    "collapsed": true,
    "hidden": true
   },
   "outputs": [],
   "source": [
    "%matplotlib inline\n",
    "pcs = mrs_X.shape[0]\n",
    "f, axarr = plt.subplots(1, pcs,sharey=True, sharex=True,figsize=(20,3))\n",
    "\n",
    "for i in range(pcs):\n",
    "    axarr[i].hist(normal_X[i,:],bins=7, alpha=0.5, label='normal',color='gray')\n",
    "    axarr[i].hist(mrs_X[i,:],bins=7, alpha=0.6, label='inhibited',color='black')\n",
    "    axarr[i].legend(loc='upper right')\n",
    "\n",
    "plt.show()\n"
   ]
  },
  {
   "cell_type": "markdown",
   "metadata": {
    "collapsed": true,
    "heading_collapsed": true
   },
   "source": [
    "## Noise covariance matrix Q of normal, mrs"
   ]
  },
  {
   "cell_type": "code",
   "execution_count": null,
   "metadata": {
    "collapsed": true,
    "hidden": true
   },
   "outputs": [],
   "source": [
    "%matplotlib inline\n",
    "\n",
    "f, axarr = plt.subplots(1, 2,figsize=(15,3))\n",
    "axarr[0].imshow(normal_Q,cmap='Blues')\n",
    "axarr[1].imshow(mrs_Q,cmap='Blues')"
   ]
  },
  {
   "cell_type": "code",
   "execution_count": null,
   "metadata": {
    "code_folding": [],
    "collapsed": true,
    "hidden": true
   },
   "outputs": [],
   "source": [
    "def get_eigens(z,is_plot=False,is_print=False):\n",
    "    cov_mat = z\n",
    "    eig_vals, eig_vecs = np.linalg.eig(cov_mat)\n",
    "    \n",
    "    if (is_print):\n",
    "        print('Eigenvectors \\n%s' % eig_vecs)\n",
    "        print('\\nEigenvalues \\n%s' % eig_vals)\n",
    "\n",
    "        for ev in eig_vecs:\n",
    "            np.testing.assert_array_almost_equal(1.0, np.linalg.norm(ev))\n",
    "        print('Everything ok!')\n",
    "        print ('')\n",
    "\n",
    "    # Make a list of (eigenvalue, eigenvector) tuples\n",
    "    eig_pairs = [(np.abs(eig_vals[i]), eig_vecs[:, i]) for i in range(len(eig_vals))]\n",
    "\n",
    "    # Sort the (eigenvalue, eigenvector) tuples from high to low\n",
    "    eig_pairs.sort(key=lambda x: x[0], reverse=True)\n",
    "    \n",
    "    if (is_print):\n",
    "        #Visually confirm that the list is correctly sorted by decreasing eigenvalues\n",
    "        print('Eigenvalues in descending order:')\n",
    "        for i in eig_pairs:\n",
    "            print(i[0])\n",
    "\n",
    "    tot = sum(eig_vals)\n",
    "    var_exp = [(i / tot) * 100 for i in sorted(eig_vals, reverse=True)]\n",
    "    cum_var_exp = np.cumsum(var_exp)\n",
    "    print ((var_exp))\n",
    "\n",
    "    if (is_plot):\n",
    "        with plt.style.context('seaborn-whitegrid'):\n",
    "            plt.figure(figsize=(6, 4))\n",
    "\n",
    "            plt.bar(range(len(var_exp)), var_exp, alpha=0.5, align='center',\n",
    "                    label='individual explained variance')\n",
    "            plt.step(range(len(var_exp)), cum_var_exp, where='mid',\n",
    "                     label='cumulative explained variance')\n",
    "            plt.ylabel('Explained variance ratio')\n",
    "            plt.xlabel('Principal components')\n",
    "            plt.legend(loc='best')\n",
    "            plt.tight_layout()\n",
    "        plt.show()\n",
    "\n",
    "\n"
   ]
  },
  {
   "cell_type": "code",
   "execution_count": null,
   "metadata": {
    "collapsed": true,
    "hidden": true
   },
   "outputs": [],
   "source": [
    "print ('Normal')\n",
    "get_eigens(normal_Q,is_plot=True)\n",
    "print ('')\n",
    "\n",
    "print ('Abnormal')\n",
    "get_eigens(mrs_Q,is_plot=True)"
   ]
  },
  {
   "cell_type": "markdown",
   "metadata": {
    "heading_collapsed": true
   },
   "source": [
    "## Synthesize"
   ]
  },
  {
   "cell_type": "markdown",
   "metadata": {
    "hidden": true
   },
   "source": [
    "Below blocks synthesize sequences based on the trained models."
   ]
  },
  {
   "cell_type": "markdown",
   "metadata": {
    "hidden": true
   },
   "source": [
    "### Multi-Step Out-of-Sample Forecast\n",
    "\n",
    "This forecast randomly selects a starting point and forecasts predict_states time steps ahead in the sequence from the available data used to fit the model."
   ]
  },
  {
   "cell_type": "markdown",
   "metadata": {
    "heading_collapsed": true,
    "hidden": true
   },
   "source": [
    "#### Intialize Vars"
   ]
  },
  {
   "cell_type": "code",
   "execution_count": null,
   "metadata": {
    "collapsed": true,
    "hidden": true
   },
   "outputs": [],
   "source": [
    "cls = 'normal'\n",
    "if (cls == 'normal'):\n",
    "    input_X = normal_X_train\n",
    "    A = normal_A\n",
    "    Q = normal_Q\n",
    "    C = normal_C\n",
    "    norm = normal_norms\n",
    "    \n",
    "\n",
    "else:\n",
    "    \n",
    "    input_X = mrs_X_train\n",
    "    A = mrs_A\n",
    "    Q = mrs_Q\n",
    "    C = mrs_C\n",
    "    norm = mrs_norms\n",
    "\n",
    "\n",
    "\n",
    "predict_states = 100"
   ]
  },
  {
   "cell_type": "code",
   "execution_count": null,
   "metadata": {
    "collapsed": true,
    "hidden": true
   },
   "outputs": [],
   "source": [
    "import random\n",
    "\n",
    "selected_index = random.randrange(0, 15, 1)\n",
    "print (selected_index)\n",
    "\n",
    "X_subsample = input_X[:,selected_index:selected_index+2]\n",
    "orig_X, predicted_X,orig_predicted,orig_recon = predict(X_subsample,A,Q,predict_states=predict_states)\n",
    "\n",
    "print (orig_X.shape)\n",
    "print (predicted_X.shape)\n",
    "print (orig_predicted.shape)"
   ]
  },
  {
   "cell_type": "markdown",
   "metadata": {
    "heading_collapsed": true,
    "hidden": true
   },
   "source": [
    "#### Plotting to just make sure that the predictions are from the same subspace"
   ]
  },
  {
   "cell_type": "code",
   "execution_count": null,
   "metadata": {
    "collapsed": true,
    "hidden": true
   },
   "outputs": [],
   "source": [
    "%matplotlib inline\n",
    "\n",
    "X_in_copy = input_X.T.copy()\n",
    "f, axarr = plt.subplots(1, predicted_X.shape[0],figsize=(15,3),sharex=True)\n",
    "for i in range(predicted_X.shape[0]):\n",
    "    X_in = X_in_copy[:,i]\n",
    "    pc = list(predicted_X[i,:])\n",
    "    axarr[i].hist(X_in,alpha=0.5)\n",
    "    axarr[i].set_xlabel('component_'+(str(i+1)))\n",
    "    axarr[i].scatter(pc,np.ones(len(pc)),color='r')\n",
    "\n",
    "plt.show()\n"
   ]
  },
  {
   "cell_type": "markdown",
   "metadata": {
    "heading_collapsed": true,
    "hidden": true
   },
   "source": [
    "#### Prediciting multiple states."
   ]
  },
  {
   "cell_type": "code",
   "execution_count": null,
   "metadata": {
    "collapsed": true,
    "hidden": true
   },
   "outputs": [],
   "source": [
    "X_train_copy = input_X.copy()\n",
    "orig_pixel_space = ar.appearance_space(X_train_copy,C)\n",
    "\n",
    "orig_image_space = (orig_pixel_space.T * norm).T\n",
    "orig_image_space = np.reshape(orig_image_space,(int(orig_image_space.shape[0]/2),2,orig_image_space.shape[1]))\n",
    "orig_image_space = np.transpose(orig_image_space,(0,2,1))\n",
    "\n",
    "predicted_copy = orig_predicted.copy()\n",
    "predicted_pixel_space = ar.appearance_space(predicted_copy,C)\n",
    "predicted_image_space = (predicted_pixel_space.T * norm).T\n",
    "predicted_image_space = np.reshape(predicted_image_space,(int(predicted_image_space.shape[0]/2),2,predicted_image_space.shape[1]))\n",
    "predicted_image_space = np.transpose(predicted_image_space,(0,2,1))\n",
    "\n",
    "frame_num = orig_image_space.shape[1]\n",
    "is_one = False\n",
    "currentX = orig_image_space[:,:,0]\n",
    "currentY = orig_image_space[:,:,1]\n",
    "\n",
    "\n",
    "cxx = predicted_image_space[:,:,0]\n",
    "cyy = predicted_image_space[:,:,1]\n",
    "\n",
    "print (cxx.shape)\n",
    "\n",
    "plot_trajectory_2D(frame_num,is_one,currentX,currentY,cxx,cyy,scatter_plot=True,title='Normal')\n",
    "#plot_trajectory_2D(frame_num,is_one,currentX,currentY,None,None,scatter_plot=True)\n",
    "\n",
    "\n"
   ]
  },
  {
   "cell_type": "code",
   "execution_count": null,
   "metadata": {
    "collapsed": true,
    "hidden": true
   },
   "outputs": [],
   "source": [
    "predicted_outputs = predicted_image_space.copy()\n",
    "path = '/media/narita/Data/Neutrophils/fps_20_frames/average_motion_model' \\\n",
    "                      '/ar_generated_center_coords_'+cls+'_'+str(predict_states)+'.npy'\n",
    "\n",
    "np.save(path,predicted_outputs)\n",
    "print (path+' saved!')"
   ]
  },
  {
   "cell_type": "markdown",
   "metadata": {
    "heading_collapsed": true,
    "hidden": true
   },
   "source": [
    "### One-Step Out-of-Sample Forecast\n",
    "\n",
    "A one-step forecast is a forecast of the very next time step in the sequence from the available data used to fit the model."
   ]
  },
  {
   "cell_type": "code",
   "execution_count": null,
   "metadata": {
    "collapsed": true,
    "hidden": true
   },
   "outputs": [],
   "source": [
    "total_frames = input_X.shape[1]\n",
    "selected_index = total_frames - ar_order \n",
    "print (selected_index)\n",
    "\n",
    "X_subsample = input_X[:,selected_index:selected_index+2]\n",
    "orig_X, predicted_X,orig_predicted,orig_recon = predict(X_subsample,A,predict_states=1)\n",
    "\n",
    "print (orig_X.shape)\n",
    "print (predicted_X.shape)\n",
    "print (orig_predicted.shape)"
   ]
  },
  {
   "cell_type": "code",
   "execution_count": null,
   "metadata": {
    "collapsed": true,
    "hidden": true
   },
   "outputs": [],
   "source": [
    "X_train_copy = input_X.copy()\n",
    "orig_pixel_space = ar.appearance_space(X_train_copy,C)\n",
    "\n",
    "orig_image_space = (orig_pixel_space.T * norm).T\n",
    "orig_image_space = np.reshape(orig_image_space,(int(orig_image_space.shape[0]/2),2,orig_image_space.shape[1]))\n",
    "orig_image_space = np.transpose(orig_image_space,(0,2,1))\n",
    "\n",
    "predicted_copy = orig_predicted.copy()\n",
    "predicted_pixel_space = ar.appearance_space(predicted_copy,C)\n",
    "predicted_image_space = (predicted_pixel_space.T * norm).T\n",
    "predicted_image_space = np.reshape(predicted_image_space,(int(predicted_image_space.shape[0]/2),2,predicted_image_space.shape[1]))\n",
    "predicted_image_space = np.transpose(predicted_image_space,(0,2,1))\n",
    "\n",
    "frame_num = orig_image_space.shape[1]\n",
    "is_one = False\n",
    "currentX = orig_image_space[:,:,0]\n",
    "currentY = orig_image_space[:,:,1]\n",
    "\n",
    "\n",
    "cxx = predicted_image_space[:,:,0]\n",
    "cyy = predicted_image_space[:,:,1]\n",
    "\n",
    "\n",
    "plot_trajectory_2D(frame_num,is_one,currentX,currentY,cxx,cyy,scatter_plot=True)\n",
    "plot_trajectory_2D(frame_num,is_one,currentX,currentY,None,None,scatter_plot=True)\n",
    "\n",
    "\n"
   ]
  },
  {
   "cell_type": "markdown",
   "metadata": {
    "collapsed": true
   },
   "source": [
    "## Grid Search AR"
   ]
  },
  {
   "cell_type": "code",
   "execution_count": null,
   "metadata": {
    "collapsed": true
   },
   "outputs": [],
   "source": [
    "Grid search determines the no. of principal components() to be used and the order of AR\n",
    "model. Once these "
   ]
  },
  {
   "cell_type": "code",
   "execution_count": null,
   "metadata": {
    "code_folding": [],
    "collapsed": true
   },
   "outputs": [],
   "source": [
    "# evaluate an AR model for a given order (o)\n",
    "from sklearn.metrics import mean_squared_error\n",
    "\n",
    "def evaluate_ar_model(X, split, ar_order):\n",
    "    error = None\n",
    "    try:\n",
    "        # prepare training dataset\n",
    "        train_size = int((X.shape[1]) * split)\n",
    "        train, test = X[:,0:train_size], X[:,train_size:]\n",
    "        \n",
    "        # make predictions\n",
    "        predictions =[]\n",
    "        \n",
    "        for t in range((test.shape[1])):\n",
    "            _A, _Q, r = ar.train(train, order = ar_order)\n",
    "            r = np.array(r)\n",
    "            \n",
    "            \n",
    "            \n",
    "            orig_X, next_X, Xnext, Xnext_mean = predict(\n",
    "                                                            train[:,-ar_order:],\n",
    "                                                            A=_A,\n",
    "                                                            Q=_Q,\n",
    "                                                            order = ar_order,\n",
    "                                                            predict_states = 1\n",
    "                                                        )\n",
    "            \n",
    "            predictions.append(next_X.flatten())\n",
    "            \n",
    "            z = test[:,t].reshape((test.shape[0],1))\n",
    "            train = np.concatenate((train,z),axis=1)\n",
    "        \n",
    "        predictions = np.array(predictions).T\n",
    "        \n",
    "        error = mean_squared_error(predictions.flatten(), test.flatten())\n",
    "    except:\n",
    "        print (\"Unexpected error:\", sys.exc_info())\n",
    "        print('Error on line {}'.format(sys.exc_info()[-1].tb_lineno))\n",
    "\n",
    "    return (r, _Q, error)\n"
   ]
  },
  {
   "cell_type": "code",
   "execution_count": null,
   "metadata": {
    "code_folding": [
     3
    ],
    "collapsed": true
   },
   "outputs": [],
   "source": [
    "%matplotlib inline \n",
    "\n",
    "# evaluate combinations of q, d values for an AR model\n",
    "def evaluate_models(dataset,q_values=range(2,11), d_values=range(1,11)):\n",
    "    all_res = []\n",
    "    best_score, best_cfg = float(\"inf\"), None\n",
    "    split = 0.8\n",
    "    cnt = 0\n",
    "    for q in q_values:\n",
    "        normal_X,normal_C,normal_S,normal_U = ar.state_space(dataset.T,q)\n",
    "        for d in d_values:\n",
    "            order = (q,d)\n",
    "            try:\n",
    "                res,_Q, mse = evaluate_ar_model(normal_X,split, d)\n",
    "                \n",
    "                #print('Current, AR%s MSE=%.10f' % (order,mse))\n",
    "                if mse < best_score:\n",
    "                    best_score, best_cfg = mse, order\n",
    "                    print('AR%s MSE=%.10f' % (order,mse))\n",
    "                    res = res.flatten()\n",
    "                    plt.figure(cnt)\n",
    "                    plt.imshow(_Q,cmap = \"Blues\")\n",
    "                    plt.colorbar()\n",
    "                    plt.show()\n",
    "                    \n",
    "            except:\n",
    "                print('Error on line {}'.format(sys.exc_info()[-1].tb_lineno), type(e).__name__, e)\n",
    "                continue\n",
    "         \n",
    "    print('Best AR%s MSE=%.10f' % (best_cfg, best_score))\n",
    "    "
   ]
  },
  {
   "cell_type": "code",
   "execution_count": null,
   "metadata": {
    "collapsed": true
   },
   "outputs": [],
   "source": [
    "np.random.seed(2)\n",
    "evaluate_models(all_normal_cells_norm)"
   ]
  },
  {
   "cell_type": "code",
   "execution_count": null,
   "metadata": {
    "collapsed": true
   },
   "outputs": [],
   "source": [
    "evaluate_models(all_mrs_cells_norm)"
   ]
  },
  {
   "cell_type": "markdown",
   "metadata": {
    "collapsed": true
   },
   "source": [
    "# One - Step Prediction Error"
   ]
  },
  {
   "cell_type": "code",
   "execution_count": null,
   "metadata": {
    "collapsed": true
   },
   "outputs": [],
   "source": [
    "# evaluate an AR model for a given order (o)\n",
    "from sklearn.metrics import mean_squared_error\n",
    "\n",
    "def one_step_prediction(X, train_size, ar_order):\n",
    "    error = None\n",
    "    \n",
    "    try:\n",
    "        # prepare training dataset\n",
    "        #train_size = int((X.shape[1]) * split)\n",
    "        train, test = X[:,0:train_size], X[:,train_size:train_size+5]\n",
    "        \n",
    "        # make predictions\n",
    "        predictions =[]\n",
    "        \n",
    "        for t in range((test.shape[1])):\n",
    "            _A, _Q, r = ar.train(train, order = ar_order)\n",
    "            r = np.array(r)\n",
    "            \n",
    "            \n",
    "            \n",
    "            orig_X, next_X, Xnext, Xnext_mean = predict(\n",
    "                                                            train[:,-ar_order:],\n",
    "                                                            A=_A,\n",
    "                                                            Q=_Q,\n",
    "                                                            order = ar_order,\n",
    "                                                            predict_states = 1\n",
    "                                                        )\n",
    "            \n",
    "            predictions.append(next_X.flatten())\n",
    "            \n",
    "            z = test[:,t].reshape((test.shape[0],1))\n",
    "            train = np.concatenate((train,z),axis=1)\n",
    "        \n",
    "        predictions = np.array(predictions).T\n",
    "        \n",
    "        error = mean_squared_error(predictions.flatten(), test.flatten())\n",
    "    except:\n",
    "        print (\"Unexpected error:\", sys.exc_info())\n",
    "        print('Error on line {}'.format(sys.exc_info()[-1].tb_lineno))\n",
    "\n",
    "    return (r, _Q, error)\n"
   ]
  },
  {
   "cell_type": "code",
   "execution_count": null,
   "metadata": {
    "collapsed": true
   },
   "outputs": [],
   "source": [
    "%matplotlib inline \n",
    "\n",
    "# evaluate combinations of q, d values for an AR model\n",
    "def evaluate_one_step(dataset,d_values=range(1,5)):\n",
    "    all_res = []\n",
    "    best_score, best_cfg = float(\"inf\"), None\n",
    "    split = 0.8\n",
    "    cnt = 0\n",
    "    q = 3\n",
    "    all_mse = []\n",
    "    all_res = []\n",
    "    for d in range(4):\n",
    "        curr_res = []\n",
    "        for ts in range(5,60,5):\n",
    "            normal_X,normal_C,normal_S,normal_U = ar.state_space(dataset.T,q)\n",
    "            order = (ts,q,d)\n",
    "            try:\n",
    "                res,_Q, mse = one_step_prediction(normal_X, ts, d+1)\n",
    "                curr_res.append(mse)\n",
    "                #print('Current, AR%s MSE=%.10f' % (order,mse))\n",
    "                \n",
    "            except:\n",
    "                print('Error on line {}'.format(sys.exc_info()[-1].tb_lineno), type(e).__name__, e)\n",
    "                continue\n",
    "        all_res.insert(d,curr_res)\n",
    "    return all_res"
   ]
  },
  {
   "cell_type": "code",
   "execution_count": null,
   "metadata": {
    "collapsed": true
   },
   "outputs": [],
   "source": [
    "norm_res = evaluate_one_step(all_normal_cells_norm)\n"
   ]
  },
  {
   "cell_type": "code",
   "execution_count": null,
   "metadata": {
    "collapsed": true
   },
   "outputs": [],
   "source": [
    "mrs_res = evaluate_one_step(all_mrs_cells_norm)"
   ]
  },
  {
   "cell_type": "code",
   "execution_count": null,
   "metadata": {
    "collapsed": true
   },
   "outputs": [],
   "source": [
    "np.array(norm_res).shape"
   ]
  },
  {
   "cell_type": "code",
   "execution_count": null,
   "metadata": {
    "collapsed": true
   },
   "outputs": [],
   "source": [
    "fig,axarr = plt.subplots(nrows = 1, ncols=2,sharey=True, sharex=True,figsize=(12,3))\n",
    "\n",
    "line_styles = [':','-.','--','-']\n",
    "\n",
    "for i in range(np.array(norm_res).shape[0]):\n",
    "    #print (scipy.signal.medfilt(results[i,:],7))\n",
    "    axarr[0].plot(range(5,60,5),scipy.signal.medfilt(norm_res[i],7),label='AR order '+str(i+1),linestyle=line_styles[i])\n",
    "    axarr[0].legend(loc='upper right')\n",
    "    axarr[0].set_xlabel('#frames')\n",
    "    axarr[0].set_ylabel('one-step prediction error')\n",
    "    \n",
    "    axarr[1].plot(range(5,60,5),scipy.signal.medfilt(mrs_res[i],7),label='AR order '+str(i+1),linestyle=line_styles[i])\n",
    "    axarr[1].legend(loc='upper right')\n",
    "    axarr[1].set_xlabel('#frames')\n",
    "\n",
    "#plt.yscale('log')\n",
    "plt.legend(loc=0, borderaxespad=0.5)\n",
    "\n",
    "plt.show()"
   ]
  },
  {
   "cell_type": "code",
   "execution_count": null,
   "metadata": {
    "collapsed": true
   },
   "outputs": [],
   "source": []
  },
  {
   "cell_type": "code",
   "execution_count": null,
   "metadata": {
    "collapsed": true
   },
   "outputs": [],
   "source": []
  }
 ],
 "metadata": {
  "kernelspec": {
   "display_name": "Python 3",
   "language": "python",
   "name": "python3"
  },
  "language_info": {
   "codemirror_mode": {
    "name": "ipython",
    "version": 3
   },
   "file_extension": ".py",
   "mimetype": "text/x-python",
   "name": "python",
   "nbconvert_exporter": "python",
   "pygments_lexer": "ipython3",
   "version": "3.6.1"
  }
 },
 "nbformat": 4,
 "nbformat_minor": 2
}
