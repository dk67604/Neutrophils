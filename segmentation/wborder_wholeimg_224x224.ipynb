{
 "cells": [
  {
   "cell_type": "markdown",
   "metadata": {},
   "source": [
    "### Imports"
   ]
  },
  {
   "cell_type": "code",
   "execution_count": 1,
   "metadata": {},
   "outputs": [
    {
     "name": "stderr",
     "output_type": "stream",
     "text": [
      "Using TensorFlow backend.\n"
     ]
    }
   ],
   "source": [
    "import glob\n",
    "from PIL import Image\n",
    "import os\n",
    "import keras\n",
    "import tensorflow as tf\n",
    "import keras.utils\n",
    "from keras.preprocessing import image\n",
    "from keras import utils as np_util0s\n",
    "import threading\n",
    "from numpy import random\n",
    "from bs4 import BeautifulSoup\n",
    "import scipy\n",
    "import matplotlib.pyplot as plt\n",
    "import numpy as np\n",
    "import os\n",
    "from keras.callbacks import ModelCheckpoint, TensorBoard\n",
    "from scipy.misc import imresize\n",
    "from keras.layers import Input\n",
    "from tiramisu import *\n",
    "import datetime\n",
    "from time import time\n",
    "from keras.callbacks import ModelCheckpoint, TensorBoard\n",
    "from keras.layers import Input\n",
    "\n",
    "%matplotlib inline"
   ]
  },
  {
   "cell_type": "code",
   "execution_count": 2,
   "metadata": {
    "collapsed": true
   },
   "outputs": [],
   "source": [
    "session_config = tf.ConfigProto(log_device_placement=False, allow_soft_placement=True)    \n",
    "# please do not use the totality of the GPU memory\n",
    "session_config.gpu_options.per_process_gpu_memory_fraction = 0.90"
   ]
  },
  {
   "cell_type": "markdown",
   "metadata": {},
   "source": [
    "### Load data\n",
    "\n",
    "This data has been already preprocessed i.e. normalized and standardized."
   ]
  },
  {
   "cell_type": "code",
   "execution_count": 5,
   "metadata": {
    "collapsed": true
   },
   "outputs": [],
   "source": [
    "training_imgs = np.load('/media/narita/Data/Neutrophils/train_test_images/train_validation_combined/npys/images/training_imgs_224x224.npy')\n",
    "training_labels = np.load('/media/narita/Data/Neutrophils/train_test_images/train_validation_combined/npys/converted_labels/training_labels_with_borders_int_224x224.npy')\n",
    "\n",
    "\n",
    "testing_imgs = np.load('/media/narita/Data/Neutrophils/train_test_images/testing_npys/images/testing_imgs_224x224.npy')\n",
    "testing_labels = np.load('/media/narita/Data/Neutrophils/train_test_images/testing_npys/converted_npys/testing_labels_with_borders_int_224x224.npy')\n",
    "\n"
   ]
  },
  {
   "cell_type": "code",
   "execution_count": 6,
   "metadata": {},
   "outputs": [
    {
     "name": "stdout",
     "output_type": "stream",
     "text": [
      "((366, 224, 224, 3), (366, 224, 224))\n"
     ]
    }
   ],
   "source": [
    "print (training_imgs.shape,training_labels.shape)"
   ]
  },
  {
   "cell_type": "code",
   "execution_count": 7,
   "metadata": {},
   "outputs": [
    {
     "name": "stdout",
     "output_type": "stream",
     "text": [
      "((46, 224, 224, 3), (46, 224, 224))\n"
     ]
    }
   ],
   "source": [
    "print (testing_imgs.shape,testing_labels.shape)"
   ]
  },
  {
   "cell_type": "code",
   "execution_count": 8,
   "metadata": {
    "collapsed": true
   },
   "outputs": [],
   "source": [
    "'''\n",
    "# Settings for img_size 1024x1024\n",
    "mu = 0.40652763802991992\n",
    "std = 0.10811594310979132\n",
    "'''\n",
    "\n",
    "'''\n",
    "# Settings for img_size 224x224\n",
    "mu = 0.40651816005481112\n",
    "std = 0.10812693486000097\n",
    "'''\n",
    "# Without7\n",
    "mu = 0.42405027826818381\n",
    "std = 0.10426620392610358"
   ]
  },
  {
   "cell_type": "markdown",
   "metadata": {},
   "source": [
    "### Initialize ShuffleSplit"
   ]
  },
  {
   "cell_type": "code",
   "execution_count": null,
   "metadata": {
    "collapsed": true
   },
   "outputs": [],
   "source": [
    "from sklearn.model_selection import ShuffleSplit"
   ]
  },
  {
   "cell_type": "code",
   "execution_count": null,
   "metadata": {
    "collapsed": true
   },
   "outputs": [],
   "source": [
    "ss = ShuffleSplit(n_splits=3, test_size=0.1,random_state=0)"
   ]
  },
  {
   "cell_type": "code",
   "execution_count": null,
   "metadata": {
    "collapsed": true
   },
   "outputs": [],
   "source": [
    " ss"
   ]
  },
  {
   "cell_type": "markdown",
   "metadata": {},
   "source": [
    "### Generators"
   ]
  },
  {
   "cell_type": "code",
   "execution_count": 13,
   "metadata": {
    "code_folding": [],
    "collapsed": true
   },
   "outputs": [],
   "source": [
    "# Batch Generator\n",
    "class BatchIndices(object):\n",
    "    \"\"\"\n",
    "    Generates batches of shuffled indices.\n",
    "    # Arguments\n",
    "        n: number of indices\n",
    "        bs: batch size\n",
    "        shuffle: whether to shuffle indices, default True \n",
    "    \n",
    "    \"\"\"\n",
    "    def __init__(self, n, bs, shuffle=True):\n",
    "        self.n,self.bs,self.shuffle = n,bs,shuffle\n",
    "        self.lock = threading.Lock()\n",
    "        self.reset()\n",
    "\n",
    "    def reset(self):\n",
    "        self.idxs = (np.random.permutation(self.n) \n",
    "                     if self.shuffle else np.arange(0, self.n))\n",
    "        self.curr = 0\n",
    "\n",
    "    def __next__(self):\n",
    "        with self.lock:\n",
    "            if self.curr >= self.n: self.reset()\n",
    "            ni = min(self.bs, self.n-self.curr)\n",
    "            res = self.idxs[self.curr:self.curr+ni]\n",
    "            self.curr += ni\n",
    "            return res"
   ]
  },
  {
   "cell_type": "code",
   "execution_count": 14,
   "metadata": {
    "code_folding": [],
    "collapsed": true
   },
   "outputs": [],
   "source": [
    "# Segmentor\n",
    "\n",
    "from keras.utils import to_categorical\n",
    "class segm_generator(object):\n",
    "    \"\"\"\n",
    "    Generates batches of sub-images.\n",
    "    # Arguments\n",
    "        x: array of inputs\n",
    "        y: array of targets\n",
    "        bs: batch size\n",
    "        out_sz: dimension of sub-image\n",
    "        train: If true, will shuffle/randomize sub-images\n",
    "        waldo: If true, allow sub-images to contain targets.\n",
    "    \"\"\"\n",
    "    def __init__(self, x, y, bs=64, out_sz=(224,224), train=True):\n",
    "        self.x, self.y, self.bs, self.train = x,y,bs,train\n",
    "        self.n = x.shape[0]\n",
    "        self.ri, self.ci = [], []\n",
    "        for i in range(self.n):\n",
    "            ri, ci, _ = x[i].shape\n",
    "            self.ri.append(ri), self.ci.append(ci) \n",
    "        self.idx_gen = BatchIndices(self.n, bs, train)\n",
    "        self.ro, self.co = out_sz\n",
    "        self.ych = self.y.shape[-1] if len(y.shape)==4 else 1\n",
    "        \n",
    "    def get_slice(self, i,o):\n",
    "        start = random.randint(0, i-o) if self.train else (i-o)\n",
    "        return slice(start, start+o)\n",
    "\n",
    "    def get_item(self, idx):\n",
    "        #slice_r = self.get_slice(self.ri[idx], self.ro)\n",
    "        #slice_c = self.get_slice(self.ci[idx], self.co)\n",
    "        x = self.x[idx]\n",
    "        #[slice_r, slice_c]\n",
    "        y = self.y[idx]\n",
    "        #[slice_r, slice_c]\n",
    "\n",
    "        if self.train and (random.random()>0.5): \n",
    "            y = y[:,::-1]\n",
    "            x = x[:,::-1]\n",
    "        return x, to_categorical(y, num_classes=3)\n",
    "\n",
    "    def __next__(self):\n",
    "        idxs = self.idx_gen.__next__()\n",
    "        items = []\n",
    "        for idx in idxs:\n",
    "            item = self.get_item(idx)\n",
    "            if item is not None:\n",
    "                items.append(item)\n",
    "        if not items:\n",
    "            return None\n",
    "        xs,ys = zip(*tuple(items))\n",
    "        return np.stack(xs), np.stack(ys)"
   ]
  },
  {
   "cell_type": "code",
   "execution_count": 15,
   "metadata": {
    "code_folding": [],
    "collapsed": true
   },
   "outputs": [],
   "source": [
    "# For Python 2 compatibility\n",
    "\n",
    "def seg_gen(x, y, bs=64, out_sz=(224,224), train=True):\n",
    "    \"\"\"\n",
    "    Generator wrapper on iterators for python 2 compatibility.\n",
    "    \"\"\"\n",
    "    sg = segm_generator(x=x, y=y, bs=bs, out_sz = out_sz ,train=train)\n",
    "    while True:\n",
    "        yield sg.__next__()"
   ]
  },
  {
   "cell_type": "markdown",
   "metadata": {},
   "source": [
    "### View samples"
   ]
  },
  {
   "cell_type": "code",
   "execution_count": 16,
   "metadata": {
    "collapsed": true
   },
   "outputs": [],
   "source": [
    "gen = seg_gen(training_imgs, training_labels, bs=4, train=True)"
   ]
  },
  {
   "cell_type": "code",
   "execution_count": 17,
   "metadata": {
    "collapsed": true
   },
   "outputs": [],
   "source": [
    "X, y = next(gen)"
   ]
  },
  {
   "cell_type": "code",
   "execution_count": 18,
   "metadata": {},
   "outputs": [
    {
     "data": {
      "text/plain": [
       "(4, 50176, 3)"
      ]
     },
     "execution_count": 18,
     "metadata": {},
     "output_type": "execute_result"
    }
   ],
   "source": [
    "y.shape\n"
   ]
  },
  {
   "cell_type": "code",
   "execution_count": 19,
   "metadata": {},
   "outputs": [
    {
     "name": "stderr",
     "output_type": "stream",
     "text": [
      "/home/narita/.local/lib/python2.7/site-packages/matplotlib/cbook.py:136: MatplotlibDeprecationWarning: The spectral and spectral_r colormap was deprecated in version 2.0. Use nipy_spectral and nipy_spectral_r instead.\n",
      "  warnings.warn(message, mplDeprecation, stacklevel=1)\n"
     ]
    },
    {
     "data": {
      "image/png": "[encoded data removed]",
      "text/plain": [
       "<matplotlib.figure.Figure at 0x7fba3654edd0>"
      ]
     },
     "metadata": {},
     "output_type": "display_data"
    }
   ],
   "source": [
    "import matplotlib.gridspec as gridspec\n",
    "fig = plt.figure(figsize=(10, 10))\n",
    "\n",
    "gs = gridspec.GridSpec(1, 2)\n",
    "\n",
    "ax1 = plt.subplot(gs[0])\n",
    "ax2 = plt.subplot(gs[1])\n",
    "\n",
    "\n",
    "ax1.imshow(X[0]*std+mu)\n",
    "ax2.imshow((y[0].reshape(224,224,3)), cmap='spectral',interpolation='nearest')\n",
    "\n",
    "plt.show()"
   ]
  },
  {
   "cell_type": "markdown",
   "metadata": {},
   "source": [
    "### Calculate class weights"
   ]
  },
  {
   "cell_type": "code",
   "execution_count": 20,
   "metadata": {
    "collapsed": true
   },
   "outputs": [],
   "source": [
    "import math\n",
    "\n",
    "# labels_dict : {ind_label: count_label}\n",
    "# mu : parameter to tune \n",
    "\n",
    "def create_class_weight(labels_dict,mu=0.15):\n",
    "    total = np.sum(labels_dict.values())\n",
    "    keys = labels_dict.keys()\n",
    "    class_weight = dict()\n",
    "    \n",
    "    for key in keys:\n",
    "        if (key == 2):\n",
    "                score = 1./float(labels_dict[key])\n",
    "                class_weight[key] = score\n",
    "        else:\n",
    "            #score = 1./float(labels_dict[key])\n",
    "            score = (1 - (float(labels_dict[key])/total))\n",
    "            class_weight[key] = score\n",
    "    return class_weight\n"
   ]
  },
  {
   "cell_type": "code",
   "execution_count": 21,
   "metadata": {},
   "outputs": [
    {
     "data": {
      "text/plain": [
       "(366, 224, 224)"
      ]
     },
     "execution_count": 21,
     "metadata": {},
     "output_type": "execute_result"
    }
   ],
   "source": [
    "training_labels.shape"
   ]
  },
  {
   "cell_type": "code",
   "execution_count": 22,
   "metadata": {
    "collapsed": true
   },
   "outputs": [],
   "source": [
    "#We're going to count the class frequency across the original labels. One common approach to correcting class imbalance is inverse frequency weighting.\n",
    "freq0 = float(np.sum(training_labels==0))\n",
    "\n",
    "freq1 = float(np.sum(training_labels==1))\n",
    "\n",
    "freq2 = float(np.sum(training_labels==2))\n"
   ]
  },
  {
   "cell_type": "code",
   "execution_count": 23,
   "metadata": {},
   "outputs": [
    {
     "name": "stdout",
     "output_type": "stream",
     "text": [
      "(1298332.0, 474057.0, 16592027.0)\n"
     ]
    }
   ],
   "source": [
    "print (freq0,freq1,freq2)\n"
   ]
  },
  {
   "cell_type": "code",
   "execution_count": 24,
   "metadata": {
    "collapsed": true
   },
   "outputs": [],
   "source": [
    "# random labels_dict\n",
    "labels_dict = {0: freq0, 1: freq1, 2: freq2}\n"
   ]
  },
  {
   "cell_type": "code",
   "execution_count": 25,
   "metadata": {},
   "outputs": [
    {
     "data": {
      "text/plain": [
       "{0: 0.92930175400078063, 1: 0.97418611079165274, 2: 6.026991156656146e-08}"
      ]
     },
     "execution_count": 25,
     "metadata": {},
     "output_type": "execute_result"
    }
   ],
   "source": [
    "class_weights =create_class_weight(labels_dict)\n",
    "class_weights"
   ]
  },
  {
   "cell_type": "code",
   "execution_count": 26,
   "metadata": {
    "collapsed": true
   },
   "outputs": [],
   "source": [
    "#class_weights = {0: 0.88344237959800853, 1: 0.90531131492415517, 2: 6.792343127439301e-08}\n",
    "\n",
    "sample_weights = np.zeros((X.shape[0], X.shape[1] * X.shape[2], 3))\n",
    "\n",
    "sample_weights[:,:,0] = class_weights[0]\n",
    "\n",
    "sample_weights[:,:,1] = class_weights[1]\n",
    "\n",
    "sample_weights[:,:,2] = class_weights[2]"
   ]
  },
  {
   "cell_type": "code",
   "execution_count": 27,
   "metadata": {},
   "outputs": [
    {
     "data": {
      "text/plain": [
       "{0: 0.92930175400078063, 1: 0.97418611079165274, 2: 6.026991156656146e-08}"
      ]
     },
     "execution_count": 27,
     "metadata": {},
     "output_type": "execute_result"
    }
   ],
   "source": [
    "class_weights"
   ]
  },
  {
   "cell_type": "code",
   "execution_count": 28,
   "metadata": {
    "collapsed": true
   },
   "outputs": [],
   "source": [
    "class_weights = {0: 0.92930175400078063, 1: 0.97418611079165274, 2: 6.026991156656146e-08}\n"
   ]
  },
  {
   "cell_type": "markdown",
   "metadata": {},
   "source": [
    "### Build Model"
   ]
  },
  {
   "cell_type": "markdown",
   "metadata": {
    "collapsed": true
   },
   "source": [
    "#### Train on 224x224 whole image"
   ]
  },
  {
   "cell_type": "code",
   "execution_count": 29,
   "metadata": {
    "collapsed": true
   },
   "outputs": [],
   "source": [
    "from keras.models import load_model\n",
    "\n",
    "def create_model(input_shape):\n",
    "    img_input = Input(shape=input_shape)\n",
    "    x = create_tiramisu(3, img_input, nb_layers_per_block=[4,5,7,10,12,15], p=0.2, wd=1e-4)\n",
    "    model = Model(img_input, x)\n",
    "    \n",
    "    model.compile(loss='categorical_crossentropy', \n",
    "                  optimizer=keras.optimizers.RMSprop(1e-3), metrics=[\"accuracy\"], sample_weight_mode='temporal')\n",
    "    \n",
    "    return model"
   ]
  },
  {
   "cell_type": "code",
   "execution_count": 30,
   "metadata": {
    "collapsed": true
   },
   "outputs": [],
   "source": [
    "def create_train_generator(imgs,labels,bs=2):\n",
    "    return seg_gen(imgs, labels, bs=bs, train=True) "
   ]
  },
  {
   "cell_type": "code",
   "execution_count": 31,
   "metadata": {
    "collapsed": true
   },
   "outputs": [],
   "source": [
    "def create_test_generator(imgs,labels,bs=2):\n",
    "    return seg_gen(imgs, labels, bs=2, train=False)"
   ]
  },
  {
   "cell_type": "code",
   "execution_count": 35,
   "metadata": {
    "collapsed": true
   },
   "outputs": [],
   "source": [
    "def train_and_evaluate_model(model,current_fold,gen_train,gen_test,sample_weights,ckpt_dir,log_dir,epochs=100):\n",
    "    \n",
    "    z = datetime.datetime.now().strftime (\"%Y%m%d\")\n",
    "    ckpt_file_name = ckpt_dir +\"/\"+ z +\"_fold\"+ current_fold +\".hdf5\"\n",
    "    checkpoint = ModelCheckpoint(ckpt_file_name, monitor='val_acc', verbose=1, save_best_only=True, mode='max')\n",
    "    tensorboard = TensorBoard(log_dir=log_dir+\"/{}\".format(time()))\n",
    "    callbacks_list = [checkpoint,tensorboard]\n",
    "\n",
    "\n",
    "    model.fit_generator(\n",
    "                        gen_train,steps_per_epoch=183,verbose=2,epochs=epochs,\n",
    "                        validation_data=gen_test, validation_steps=23,\n",
    "                        class_weight=sample_weights,callbacks=callbacks_list\n",
    "                    )\n",
    "    return model"
   ]
  },
  {
   "cell_type": "markdown",
   "metadata": {
    "heading_collapsed": true
   },
   "source": [
    "#### Create crossval dictionaries\n",
    "Since OOM is constantly troubling let's save those folds to a file. "
   ]
  },
  {
   "cell_type": "markdown",
   "metadata": {
    "heading_collapsed": true,
    "hidden": true
   },
   "source": [
    "##### Create folds and store them"
   ]
  },
  {
   "cell_type": "code",
   "execution_count": null,
   "metadata": {
    "collapsed": true,
    "hidden": true
   },
   "outputs": [],
   "source": [
    "import pickle\n",
    "\n",
    "X_train = dict()\n",
    "X_val = dict()\n",
    "y_train = dict()\n",
    "y_val = dict()\n",
    "current_fold = 0\n",
    "for train_index, val_index in ss.split(training_imgs):\n",
    "    print \"Running Fold:\", current_fold+1, \"/\", 3\n",
    "    X_train[current_fold]=train_index\n",
    "    X_val[current_fold]=val_index\n",
    "    y_train[current_fold]=train_index\n",
    "    y_val[current_fold]=val_index\n",
    "    current_fold +=1                 \n",
    "        \n",
    "\n",
    "f1 = \"/media/narita/Data/Neutrophils/npys/trained_models/with_borders_with_class_weighing/whole_image_224x224/crossval_folds/X_train\"\n",
    "with open(f1+ '.pkl', 'wb') as f:\n",
    "    pickle.dump(X_train, f, pickle.HIGHEST_PROTOCOL)\n",
    "\n",
    "\n",
    "f2 = \"/media/narita/Data/Neutrophils/npys/trained_models/with_borders_with_class_weighing/whole_image_224x224/crossval_folds/X_val\"\n",
    "with open(f2+ '.pkl', 'wb') as f:\n",
    "    pickle.dump(X_val, f, pickle.HIGHEST_PROTOCOL)\n",
    "\n",
    "f3 = \"/media/narita/Data/Neutrophils/npys/trained_models/with_borders_with_class_weighing/whole_image_224x224/crossval_folds/y_train\"\n",
    "with open(f3+ '.pkl', 'wb') as f:\n",
    "    pickle.dump(y_train, f, pickle.HIGHEST_PROTOCOL)\n",
    "\n",
    "f4 = \"/media/narita/Data/Neutrophils/npys/trained_models/with_borders_with_class_weighing/whole_image_224x224/crossval_folds/y_val\"\n",
    "with open(f4+ '.pkl', 'wb') as f:\n",
    "    pickle.dump(y_val, f, pickle.HIGHEST_PROTOCOL)\n"
   ]
  },
  {
   "cell_type": "markdown",
   "metadata": {
    "heading_collapsed": true
   },
   "source": [
    "#### Read a particular fold "
   ]
  },
  {
   "cell_type": "code",
   "execution_count": null,
   "metadata": {
    "collapsed": true,
    "hidden": true
   },
   "outputs": [],
   "source": [
    "import pickle\n",
    "\n",
    "f1 = \"/media/narita/Data/Neutrophils/npys/trained_models/with_borders_with_class_weighing/whole_image_224x224/crossval_folds/X_train.pkl\"\n",
    "with open(f1, 'rb') as f:\n",
    "    X_train = pickle.load(f)\n",
    "\n",
    "f2 = \"/media/narita/Data/Neutrophils/npys/trained_models/with_borders_with_class_weighing/whole_image_224x224/crossval_folds/X_val.pkl\"\n",
    "with open(f2, 'rb') as f:\n",
    "    X_val = pickle.load(f)\n",
    "\n",
    "f3 = \"/media/narita/Data/Neutrophils/npys/trained_models/with_borders_with_class_weighing/whole_image_224x224/crossval_folds/y_train.pkl\"\n",
    "with open(f3, 'rb') as f:\n",
    "    y_train = pickle.load(f)\n",
    "\n",
    "f4 = \"/media/narita/Data/Neutrophils/npys/trained_models/with_borders_with_class_weighing/whole_image_224x224/crossval_folds/y_val.pkl\"\n",
    "with open(f4, 'rb') as f:\n",
    "    y_val = pickle.load(f)\n",
    "\n"
   ]
  },
  {
   "cell_type": "code",
   "execution_count": null,
   "metadata": {
    "collapsed": true,
    "hidden": true
   },
   "outputs": [],
   "source": [
    "current_fold = 2\n",
    "Xt, Xv = X_train[current_fold], X_val[current_fold]\n",
    "yt, yv = y_train[current_fold], y_val[current_fold]"
   ]
  },
  {
   "cell_type": "code",
   "execution_count": null,
   "metadata": {
    "collapsed": true,
    "hidden": true
   },
   "outputs": [],
   "source": [
    "print (len(Xt),len(yt))\n",
    "print (len(Xv),len(yv))"
   ]
  },
  {
   "cell_type": "code",
   "execution_count": null,
   "metadata": {
    "collapsed": true,
    "hidden": true
   },
   "outputs": [],
   "source": [
    "train_imgs, train_labels = training_imgs[Xt], training_labels[yt]\n",
    "val_imgs, val_labels = training_imgs[Xv], training_labels[yv]"
   ]
  },
  {
   "cell_type": "code",
   "execution_count": null,
   "metadata": {
    "collapsed": true,
    "hidden": true
   },
   "outputs": [],
   "source": [
    "val_imgs.shape"
   ]
  },
  {
   "cell_type": "markdown",
   "metadata": {},
   "source": [
    "#### Train"
   ]
  },
  {
   "cell_type": "code",
   "execution_count": 33,
   "metadata": {},
   "outputs": [
    {
     "data": {
      "text/plain": [
       "'4'"
      ]
     },
     "execution_count": 33,
     "metadata": {},
     "output_type": "execute_result"
    }
   ],
   "source": [
    "current_fold = '4'\n",
    "current_fold"
   ]
  },
  {
   "cell_type": "code",
   "execution_count": 36,
   "metadata": {
    "scrolled": true
   },
   "outputs": [
    {
     "name": "stdout",
     "output_type": "stream",
     "text": [
      "Epoch 1/100\n",
      "Epoch 00000: val_acc improved from -inf to 0.91490, saving model to /media/narita/Data/Neutrophils/segmentation_results/trained_models/with_borders_with_class_weighing/whole_image_224x224_2/20170918_fold4.hdf5\n",
      "120s - loss: 0.5822 - acc: 0.9005 - val_loss: 0.2733 - val_acc: 0.9149\n",
      "Epoch 2/100\n",
      "Epoch 00001: val_acc improved from 0.91490 to 0.95256, saving model to /media/narita/Data/Neutrophils/segmentation_results/trained_models/with_borders_with_class_weighing/whole_image_224x224_2/20170918_fold4.hdf5\n",
      "89s - loss: 0.2551 - acc: 0.9299 - val_loss: 0.1788 - val_acc: 0.9526\n",
      "Epoch 3/100\n",
      "Epoch 00002: val_acc did not improve\n",
      "87s - loss: 0.2107 - acc: 0.9390 - val_loss: 0.1745 - val_acc: 0.9497\n",
      "Epoch 4/100\n",
      "Epoch 00003: val_acc did not improve\n",
      "84s - loss: 0.1804 - acc: 0.9466 - val_loss: 0.1811 - val_acc: 0.9382\n",
      "Epoch 5/100\n",
      "Epoch 00004: val_acc improved from 0.95256 to 0.95336, saving model to /media/narita/Data/Neutrophils/segmentation_results/trained_models/with_borders_with_class_weighing/whole_image_224x224_2/20170918_fold4.hdf5\n",
      "85s - loss: 0.1620 - acc: 0.9516 - val_loss: 0.1521 - val_acc: 0.9534\n",
      "Epoch 6/100\n",
      "Epoch 00005: val_acc improved from 0.95336 to 0.95581, saving model to /media/narita/Data/Neutrophils/segmentation_results/trained_models/with_borders_with_class_weighing/whole_image_224x224_2/20170918_fold4.hdf5\n",
      "85s - loss: 0.1500 - acc: 0.9550 - val_loss: 0.1415 - val_acc: 0.9558\n",
      "Epoch 7/100\n",
      "Epoch 00006: val_acc improved from 0.95581 to 0.95621, saving model to /media/narita/Data/Neutrophils/segmentation_results/trained_models/with_borders_with_class_weighing/whole_image_224x224_2/20170918_fold4.hdf5\n",
      "85s - loss: 0.1432 - acc: 0.9565 - val_loss: 0.1359 - val_acc: 0.9562\n",
      "Epoch 8/100\n",
      "Epoch 00007: val_acc improved from 0.95621 to 0.95816, saving model to /media/narita/Data/Neutrophils/segmentation_results/trained_models/with_borders_with_class_weighing/whole_image_224x224_2/20170918_fold4.hdf5\n",
      "85s - loss: 0.1355 - acc: 0.9584 - val_loss: 0.1361 - val_acc: 0.9582\n",
      "Epoch 9/100\n",
      "Epoch 00008: val_acc improved from 0.95816 to 0.96301, saving model to /media/narita/Data/Neutrophils/segmentation_results/trained_models/with_borders_with_class_weighing/whole_image_224x224_2/20170918_fold4.hdf5\n",
      "85s - loss: 0.1320 - acc: 0.9593 - val_loss: 0.1209 - val_acc: 0.9630\n",
      "Epoch 10/100\n",
      "Epoch 00009: val_acc did not improve\n",
      "84s - loss: 0.1261 - acc: 0.9608 - val_loss: 0.1270 - val_acc: 0.9602\n",
      "Epoch 11/100\n",
      "Epoch 00010: val_acc did not improve\n",
      "84s - loss: 0.1239 - acc: 0.9612 - val_loss: 0.1245 - val_acc: 0.9606\n",
      "Epoch 12/100\n",
      "Epoch 00011: val_acc did not improve\n",
      "84s - loss: 0.1214 - acc: 0.9617 - val_loss: 0.1178 - val_acc: 0.9610\n",
      "Epoch 13/100\n",
      "Epoch 00012: val_acc did not improve\n",
      "84s - loss: 0.1181 - acc: 0.9625 - val_loss: 0.1143 - val_acc: 0.9627\n",
      "Epoch 14/100\n",
      "Epoch 00013: val_acc did not improve\n",
      "84s - loss: 0.1165 - acc: 0.9628 - val_loss: 0.1140 - val_acc: 0.9625\n",
      "Epoch 15/100\n",
      "Epoch 00014: val_acc improved from 0.96301 to 0.96335, saving model to /media/narita/Data/Neutrophils/segmentation_results/trained_models/with_borders_with_class_weighing/whole_image_224x224_2/20170918_fold4.hdf5\n",
      "85s - loss: 0.1154 - acc: 0.9630 - val_loss: 0.1102 - val_acc: 0.9634\n",
      "Epoch 16/100\n",
      "Epoch 00015: val_acc did not improve\n",
      "84s - loss: 0.1140 - acc: 0.9635 - val_loss: 0.1206 - val_acc: 0.9592\n",
      "Epoch 17/100\n",
      "Epoch 00016: val_acc did not improve\n",
      "84s - loss: 0.1124 - acc: 0.9638 - val_loss: 0.1126 - val_acc: 0.9610\n",
      "Epoch 18/100\n",
      "Epoch 00017: val_acc did not improve\n",
      "84s - loss: 0.1106 - acc: 0.9642 - val_loss: 0.1189 - val_acc: 0.9590\n",
      "Epoch 19/100\n",
      "Epoch 00018: val_acc did not improve\n",
      "84s - loss: 0.1108 - acc: 0.9640 - val_loss: 0.1143 - val_acc: 0.9615\n",
      "Epoch 20/100\n",
      "Epoch 00019: val_acc did not improve\n",
      "84s - loss: 0.1104 - acc: 0.9642 - val_loss: 0.1304 - val_acc: 0.9591\n",
      "Epoch 21/100\n",
      "Epoch 00020: val_acc did not improve\n",
      "84s - loss: 0.1085 - acc: 0.9645 - val_loss: 0.1458 - val_acc: 0.9489\n",
      "Epoch 22/100\n",
      "Epoch 00021: val_acc improved from 0.96335 to 0.96500, saving model to /media/narita/Data/Neutrophils/segmentation_results/trained_models/with_borders_with_class_weighing/whole_image_224x224_2/20170918_fold4.hdf5\n",
      "85s - loss: 0.1078 - acc: 0.9646 - val_loss: 0.1048 - val_acc: 0.9650\n",
      "Epoch 23/100\n",
      "Epoch 00022: val_acc did not improve\n",
      "84s - loss: 0.1078 - acc: 0.9646 - val_loss: 0.8558 - val_acc: 0.8941\n",
      "Epoch 24/100\n",
      "Epoch 00023: val_acc did not improve\n",
      "84s - loss: 0.1055 - acc: 0.9652 - val_loss: 0.1087 - val_acc: 0.9638\n",
      "Epoch 25/100\n",
      "Epoch 00024: val_acc did not improve\n",
      "83s - loss: 0.1064 - acc: 0.9649 - val_loss: 0.1059 - val_acc: 0.9628\n",
      "Epoch 26/100\n",
      "Epoch 00025: val_acc did not improve\n",
      "84s - loss: 0.1052 - acc: 0.9652 - val_loss: 0.1122 - val_acc: 0.9597\n",
      "Epoch 27/100\n",
      "Epoch 00026: val_acc did not improve\n",
      "84s - loss: 0.1047 - acc: 0.9653 - val_loss: 0.1100 - val_acc: 0.9615\n",
      "Epoch 28/100\n",
      "Epoch 00027: val_acc did not improve\n",
      "84s - loss: 0.1033 - acc: 0.9656 - val_loss: 0.1067 - val_acc: 0.9634\n",
      "Epoch 29/100\n",
      "Epoch 00028: val_acc did not improve\n",
      "84s - loss: 0.1040 - acc: 0.9656 - val_loss: 0.1071 - val_acc: 0.9629\n",
      "Epoch 30/100\n",
      "Epoch 00029: val_acc did not improve\n",
      "84s - loss: 0.1031 - acc: 0.9658 - val_loss: 0.1071 - val_acc: 0.9631\n",
      "Epoch 31/100\n",
      "Epoch 00030: val_acc did not improve\n",
      "84s - loss: 0.1025 - acc: 0.9658 - val_loss: 0.1209 - val_acc: 0.9575\n",
      "Epoch 32/100\n",
      "Epoch 00031: val_acc did not improve\n",
      "83s - loss: 0.1019 - acc: 0.9659 - val_loss: 0.1057 - val_acc: 0.9645\n",
      "Epoch 33/100\n",
      "Epoch 00032: val_acc did not improve\n",
      "84s - loss: 0.1014 - acc: 0.9661 - val_loss: 0.1069 - val_acc: 0.9623\n",
      "Epoch 34/100\n",
      "Epoch 00033: val_acc did not improve\n",
      "84s - loss: 0.1011 - acc: 0.9662 - val_loss: 0.1062 - val_acc: 0.9644\n",
      "Epoch 35/100\n",
      "Epoch 00034: val_acc did not improve\n",
      "83s - loss: 0.1004 - acc: 0.9661 - val_loss: 0.1052 - val_acc: 0.9635\n",
      "Epoch 36/100\n",
      "Epoch 00035: val_acc did not improve\n",
      "84s - loss: 0.1004 - acc: 0.9663 - val_loss: 0.1187 - val_acc: 0.9574\n",
      "Epoch 37/100\n",
      "Epoch 00036: val_acc did not improve\n",
      "84s - loss: 0.0998 - acc: 0.9664 - val_loss: 0.1039 - val_acc: 0.9636\n",
      "Epoch 38/100\n",
      "Epoch 00037: val_acc did not improve\n",
      "83s - loss: 0.0989 - acc: 0.9665 - val_loss: 1.9035 - val_acc: 0.8807\n",
      "Epoch 39/100\n",
      "Epoch 00038: val_acc did not improve\n",
      "84s - loss: 0.0993 - acc: 0.9663 - val_loss: 0.1066 - val_acc: 0.9635\n",
      "Epoch 40/100\n",
      "Epoch 00039: val_acc did not improve\n",
      "84s - loss: 0.0978 - acc: 0.9666 - val_loss: 0.1046 - val_acc: 0.9638\n",
      "Epoch 41/100\n",
      "Epoch 00040: val_acc improved from 0.96500 to 0.96500, saving model to /media/narita/Data/Neutrophils/segmentation_results/trained_models/with_borders_with_class_weighing/whole_image_224x224_2/20170918_fold4.hdf5\n",
      "85s - loss: 0.0980 - acc: 0.9666 - val_loss: 0.0990 - val_acc: 0.9650\n",
      "Epoch 42/100\n",
      "Epoch 00041: val_acc did not improve\n",
      "83s - loss: 0.0970 - acc: 0.9667 - val_loss: 0.1039 - val_acc: 0.9640\n",
      "Epoch 43/100\n",
      "Epoch 00042: val_acc did not improve\n",
      "84s - loss: 0.0972 - acc: 0.9667 - val_loss: 0.1054 - val_acc: 0.9637\n",
      "Epoch 44/100\n",
      "Epoch 00043: val_acc did not improve\n",
      "84s - loss: 0.0971 - acc: 0.9667 - val_loss: 0.1074 - val_acc: 0.9619\n",
      "Epoch 45/100\n",
      "Epoch 00044: val_acc did not improve\n",
      "84s - loss: 0.0980 - acc: 0.9664 - val_loss: 0.1023 - val_acc: 0.9645\n",
      "Epoch 46/100\n",
      "Epoch 00045: val_acc improved from 0.96500 to 0.96515, saving model to /media/narita/Data/Neutrophils/segmentation_results/trained_models/with_borders_with_class_weighing/whole_image_224x224_2/20170918_fold4.hdf5\n",
      "85s - loss: 0.0969 - acc: 0.9666 - val_loss: 0.1015 - val_acc: 0.9652\n",
      "Epoch 47/100\n",
      "Epoch 00046: val_acc improved from 0.96515 to 0.96547, saving model to /media/narita/Data/Neutrophils/segmentation_results/trained_models/with_borders_with_class_weighing/whole_image_224x224_2/20170918_fold4.hdf5\n",
      "87s - loss: 0.0966 - acc: 0.9667 - val_loss: 0.1001 - val_acc: 0.9655\n",
      "Epoch 48/100\n",
      "Epoch 00047: val_acc did not improve\n",
      "88s - loss: 0.0966 - acc: 0.9669 - val_loss: 0.1079 - val_acc: 0.9615\n",
      "Epoch 49/100\n",
      "Epoch 00048: val_acc did not improve\n",
      "88s - loss: 0.0960 - acc: 0.9669 - val_loss: 0.1082 - val_acc: 0.9628\n",
      "Epoch 50/100\n",
      "Epoch 00049: val_acc did not improve\n",
      "88s - loss: 0.0956 - acc: 0.9671 - val_loss: 0.1078 - val_acc: 0.9616\n",
      "Epoch 51/100\n",
      "Epoch 00050: val_acc did not improve\n",
      "88s - loss: 0.0954 - acc: 0.9670 - val_loss: 0.1042 - val_acc: 0.9632\n",
      "Epoch 52/100\n"
     ]
    },
    {
     "name": "stdout",
     "output_type": "stream",
     "text": [
      "Epoch 00051: val_acc did not improve\n",
      "87s - loss: 0.0954 - acc: 0.9670 - val_loss: 0.1005 - val_acc: 0.9628\n",
      "Epoch 53/100\n",
      "Epoch 00052: val_acc did not improve\n",
      "87s - loss: 0.0948 - acc: 0.9672 - val_loss: 0.0988 - val_acc: 0.9651\n",
      "Epoch 54/100\n",
      "Epoch 00053: val_acc did not improve\n",
      "87s - loss: 0.0954 - acc: 0.9671 - val_loss: 0.1007 - val_acc: 0.9646\n",
      "Epoch 55/100\n",
      "Epoch 00054: val_acc did not improve\n",
      "84s - loss: 0.0949 - acc: 0.9672 - val_loss: 0.1006 - val_acc: 0.9647\n",
      "Epoch 56/100\n",
      "Epoch 00055: val_acc did not improve\n",
      "84s - loss: 0.0947 - acc: 0.9672 - val_loss: 0.1224 - val_acc: 0.9571\n",
      "Epoch 57/100\n",
      "Epoch 00056: val_acc did not improve\n",
      "84s - loss: 0.0950 - acc: 0.9672 - val_loss: 0.0980 - val_acc: 0.9646\n",
      "Epoch 58/100\n",
      "Epoch 00057: val_acc did not improve\n",
      "85s - loss: 0.0940 - acc: 0.9673 - val_loss: 0.1295 - val_acc: 0.9547\n",
      "Epoch 59/100\n",
      "Epoch 00058: val_acc did not improve\n",
      "85s - loss: 0.0942 - acc: 0.9672 - val_loss: 0.1037 - val_acc: 0.9625\n",
      "Epoch 60/100\n",
      "Epoch 00059: val_acc did not improve\n",
      "86s - loss: 0.0935 - acc: 0.9675 - val_loss: 0.1053 - val_acc: 0.9625\n",
      "Epoch 61/100\n",
      "Epoch 00060: val_acc did not improve\n",
      "85s - loss: 0.0938 - acc: 0.9674 - val_loss: 0.1019 - val_acc: 0.9641\n",
      "Epoch 62/100\n",
      "Epoch 00061: val_acc did not improve\n",
      "84s - loss: 0.0935 - acc: 0.9675 - val_loss: 0.1089 - val_acc: 0.9624\n",
      "Epoch 63/100\n",
      "Epoch 00062: val_acc did not improve\n",
      "86s - loss: 0.0939 - acc: 0.9673 - val_loss: 0.0974 - val_acc: 0.9645\n",
      "Epoch 64/100\n",
      "Epoch 00063: val_acc did not improve\n",
      "85s - loss: 0.0936 - acc: 0.9674 - val_loss: 0.0966 - val_acc: 0.9644\n",
      "Epoch 65/100\n",
      "Epoch 00064: val_acc did not improve\n",
      "86s - loss: 0.0934 - acc: 0.9674 - val_loss: 0.1124 - val_acc: 0.9601\n",
      "Epoch 66/100\n",
      "Epoch 00065: val_acc did not improve\n",
      "85s - loss: 0.0931 - acc: 0.9675 - val_loss: 0.1000 - val_acc: 0.9631\n",
      "Epoch 67/100\n",
      "Epoch 00066: val_acc did not improve\n",
      "85s - loss: 0.0933 - acc: 0.9675 - val_loss: 0.1034 - val_acc: 0.9625\n",
      "Epoch 68/100\n",
      "Epoch 00067: val_acc did not improve\n",
      "86s - loss: 0.0923 - acc: 0.9678 - val_loss: 0.0992 - val_acc: 0.9649\n",
      "Epoch 69/100\n",
      "Epoch 00068: val_acc did not improve\n",
      "85s - loss: 0.0930 - acc: 0.9676 - val_loss: 0.1119 - val_acc: 0.9623\n",
      "Epoch 70/100\n",
      "Epoch 00069: val_acc did not improve\n",
      "85s - loss: 0.0932 - acc: 0.9675 - val_loss: 0.0999 - val_acc: 0.9632\n",
      "Epoch 71/100\n",
      "Epoch 00070: val_acc did not improve\n",
      "85s - loss: 0.0929 - acc: 0.9676 - val_loss: 0.1166 - val_acc: 0.9586\n",
      "Epoch 72/100\n",
      "Epoch 00071: val_acc did not improve\n",
      "86s - loss: 0.0925 - acc: 0.9678 - val_loss: 0.1004 - val_acc: 0.9632\n",
      "Epoch 73/100\n",
      "Epoch 00072: val_acc did not improve\n",
      "84s - loss: 0.0921 - acc: 0.9678 - val_loss: 0.0989 - val_acc: 0.9634\n",
      "Epoch 74/100\n",
      "Epoch 00073: val_acc did not improve\n",
      "83s - loss: 0.0922 - acc: 0.9676 - val_loss: 0.0979 - val_acc: 0.9651\n",
      "Epoch 75/100\n",
      "Epoch 00074: val_acc improved from 0.96547 to 0.96567, saving model to /media/narita/Data/Neutrophils/segmentation_results/trained_models/with_borders_with_class_weighing/whole_image_224x224_2/20170918_fold4.hdf5\n",
      "85s - loss: 0.0922 - acc: 0.9678 - val_loss: 0.0980 - val_acc: 0.9657\n",
      "Epoch 76/100\n",
      "Epoch 00075: val_acc did not improve\n",
      "86s - loss: 0.0921 - acc: 0.9677 - val_loss: 0.1192 - val_acc: 0.9562\n",
      "Epoch 77/100\n",
      "Epoch 00076: val_acc did not improve\n",
      "84s - loss: 0.0919 - acc: 0.9677 - val_loss: 0.1063 - val_acc: 0.9630\n",
      "Epoch 78/100\n",
      "Epoch 00077: val_acc did not improve\n",
      "83s - loss: 0.0916 - acc: 0.9679 - val_loss: 0.1007 - val_acc: 0.9649\n",
      "Epoch 79/100\n",
      "Epoch 00078: val_acc did not improve\n",
      "83s - loss: 0.0923 - acc: 0.9676 - val_loss: 0.1015 - val_acc: 0.9626\n",
      "Epoch 80/100\n",
      "Epoch 00079: val_acc did not improve\n",
      "83s - loss: 0.0919 - acc: 0.9678 - val_loss: 0.0986 - val_acc: 0.9646\n",
      "Epoch 81/100\n",
      "Epoch 00080: val_acc did not improve\n",
      "84s - loss: 0.0917 - acc: 0.9677 - val_loss: 0.0991 - val_acc: 0.9638\n",
      "Epoch 82/100\n",
      "Epoch 00081: val_acc did not improve\n",
      "83s - loss: 0.0918 - acc: 0.9678 - val_loss: 0.0990 - val_acc: 0.9644\n",
      "Epoch 83/100\n",
      "Epoch 00082: val_acc did not improve\n",
      "83s - loss: 0.0934 - acc: 0.9675 - val_loss: 0.1020 - val_acc: 0.9633\n",
      "Epoch 84/100\n",
      "Epoch 00083: val_acc did not improve\n",
      "85s - loss: 0.0914 - acc: 0.9679 - val_loss: 0.1035 - val_acc: 0.9632\n",
      "Epoch 85/100\n",
      "Epoch 00084: val_acc did not improve\n",
      "85s - loss: 0.0911 - acc: 0.9679 - val_loss: 0.1027 - val_acc: 0.9640\n",
      "Epoch 86/100\n",
      "Epoch 00085: val_acc did not improve\n",
      "85s - loss: 0.0914 - acc: 0.9678 - val_loss: 0.0972 - val_acc: 0.9647\n",
      "Epoch 87/100\n",
      "Epoch 00086: val_acc did not improve\n",
      "86s - loss: 0.0907 - acc: 0.9681 - val_loss: 0.1004 - val_acc: 0.9649\n",
      "Epoch 88/100\n",
      "Epoch 00087: val_acc did not improve\n",
      "86s - loss: 0.0910 - acc: 0.9680 - val_loss: 0.0972 - val_acc: 0.9652\n",
      "Epoch 89/100\n",
      "Epoch 00088: val_acc did not improve\n",
      "87s - loss: 0.0906 - acc: 0.9681 - val_loss: 0.1023 - val_acc: 0.9630\n",
      "Epoch 90/100\n",
      "Epoch 00089: val_acc did not improve\n",
      "84s - loss: 0.0904 - acc: 0.9681 - val_loss: 0.0978 - val_acc: 0.9639\n",
      "Epoch 91/100\n",
      "Epoch 00090: val_acc did not improve\n",
      "83s - loss: 0.0907 - acc: 0.9680 - val_loss: 0.1043 - val_acc: 0.9634\n",
      "Epoch 92/100\n",
      "Epoch 00091: val_acc did not improve\n",
      "85s - loss: 0.0906 - acc: 0.9681 - val_loss: 0.1012 - val_acc: 0.9639\n",
      "Epoch 93/100\n",
      "Epoch 00092: val_acc did not improve\n",
      "84s - loss: 0.0903 - acc: 0.9681 - val_loss: 0.1012 - val_acc: 0.9644\n",
      "Epoch 94/100\n",
      "Epoch 00093: val_acc did not improve\n",
      "84s - loss: 0.0907 - acc: 0.9680 - val_loss: 0.0979 - val_acc: 0.9641\n",
      "Epoch 95/100\n",
      "Epoch 00094: val_acc did not improve\n",
      "85s - loss: 0.0904 - acc: 0.9681 - val_loss: 0.1079 - val_acc: 0.9610\n",
      "Epoch 96/100\n",
      "Epoch 00095: val_acc did not improve\n",
      "84s - loss: 0.0901 - acc: 0.9682 - val_loss: 0.1116 - val_acc: 0.9604\n",
      "Epoch 97/100\n",
      "Epoch 00096: val_acc did not improve\n",
      "83s - loss: 0.0903 - acc: 0.9681 - val_loss: 0.1053 - val_acc: 0.9627\n",
      "Epoch 98/100\n",
      "Epoch 00097: val_acc did not improve\n",
      "84s - loss: 0.0899 - acc: 0.9681 - val_loss: 0.0988 - val_acc: 0.9643\n",
      "Epoch 99/100\n",
      "Epoch 00098: val_acc did not improve\n",
      "85s - loss: 0.0899 - acc: 0.9682 - val_loss: 0.1011 - val_acc: 0.9634\n",
      "Epoch 100/100\n",
      "Epoch 00099: val_acc did not improve\n",
      "85s - loss: 0.0900 - acc: 0.9681 - val_loss: 0.1014 - val_acc: 0.9635\n"
     ]
    },
    {
     "data": {
      "text/plain": [
       "<keras.engine.training.Model at 0x7fb9fd10df50>"
      ]
     },
     "execution_count": 36,
     "metadata": {},
     "output_type": "execute_result"
    }
   ],
   "source": [
    "\n",
    "input_shape = (224,224,3)\n",
    "\n",
    "model = None\n",
    "model = create_model(input_shape)\n",
    "gen_train = create_train_generator(training_imgs,training_labels)\n",
    "gen_test = create_test_generator(testing_imgs,testing_labels)\n",
    "ckpt_dir = \"/media/narita/Data/Neutrophils/segmentation_results/trained_models/with_borders_with_class_weighing/whole_image_224x224_2\"\n",
    "log_dir = \"/media/narita/Data/Neutrophils/segmentation_results/trained_models/with_borders_with_class_weighing/whole_image_224x224_2/logs\"\n",
    "train_and_evaluate_model(\n",
    "                            model,str(current_fold),gen_train, gen_test,\n",
    "                            sample_weights, ckpt_dir, log_dir\n",
    "\n",
    "                        )\n",
    "\n",
    "    "
   ]
  },
  {
   "cell_type": "code",
   "execution_count": 37,
   "metadata": {},
   "outputs": [
    {
     "name": "stdout",
     "output_type": "stream",
     "text": [
      "Training Done..\n"
     ]
    }
   ],
   "source": [
    "print ('Training Done..')"
   ]
  },
  {
   "cell_type": "markdown",
   "metadata": {},
   "source": [
    "#### Trials"
   ]
  },
  {
   "cell_type": "code",
   "execution_count": null,
   "metadata": {
    "collapsed": true
   },
   "outputs": [],
   "source": [
    "model.fit_generator(gen_train,steps_per_epoch=5,verbose=2,epochs=100,validation_data=gen_test, validation_steps=5,class_weight=sample_weights,callbacks=callbacks_list)"
   ]
  },
  {
   "cell_type": "code",
   "execution_count": null,
   "metadata": {
    "collapsed": true
   },
   "outputs": [],
   "source": [
    "\n",
    "model.optimizer=keras.optimizers.RMSprop(2e-5, decay=1-0.9995)"
   ]
  },
  {
   "cell_type": "code",
   "execution_count": null,
   "metadata": {
    "collapsed": true
   },
   "outputs": [],
   "source": [
    "z = datetime.datetime.now().strftime (\"%Y%m%d\")\n",
    "ckpt_file_name = ckpt_dir +\"/\"+ z +\"_fold\"+ current_fold +\".hdf5\"\n",
    "checkpoint = ModelCheckpoint(ckpt_file_name, monitor='val_acc', verbose=1, save_best_only=True, mode='max')\n",
    "tensorboard = TensorBoard(log_dir=log_dir+\"/{}\".format(time()))\n",
    "callbacks_list = [checkpoint,tensorboard]\n",
    "\n",
    "\n",
    "model.fit_generator(\n",
    "                    gen_train,steps_per_epoch=215,verbose=2,epochs=50,\n",
    "                    validation_data=gen_test, validation_steps=23,\n",
    "                    class_weight=sample_weights,callbacks=callbacks_list\n",
    "                )"
   ]
  },
  {
   "cell_type": "code",
   "execution_count": null,
   "metadata": {
    "collapsed": true
   },
   "outputs": [],
   "source": [
    "model.optimizer=keras.optimizers.RMSprop(3e-5, decay=1-0.9995)"
   ]
  },
  {
   "cell_type": "code",
   "execution_count": null,
   "metadata": {
    "collapsed": true
   },
   "outputs": [],
   "source": [
    "model.fit_generator(gen_train,steps_per_epoch=5,verbose=2,epochs=50,validation_data=gen_test, validation_steps=5,class_weight=sample_weights,callbacks=callbacks_list)"
   ]
  },
  {
   "cell_type": "markdown",
   "metadata": {},
   "source": [
    "### Predict on all test data"
   ]
  },
  {
   "cell_type": "code",
   "execution_count": 38,
   "metadata": {
    "collapsed": true
   },
   "outputs": [],
   "source": [
    "input_shape = (224,224,3)\n",
    "\n",
    "model = None\n",
    "model = create_model(input_shape)\n",
    "#gen_train = create_train_generator(train_imgs,train_labels)\n",
    "#gen_test = create_test_generator(val_imgs,val_labels)\n"
   ]
  },
  {
   "cell_type": "code",
   "execution_count": 39,
   "metadata": {
    "collapsed": true
   },
   "outputs": [],
   "source": [
    "# Since the model showed smooth performance on fold2. Let's load it\n",
    "# and use it for prediction on test data\n",
    "gen_test = create_test_generator(testing_imgs, testing_labels)\n",
    "model_path = '/media/narita/Data/Neutrophils/segmentation_results/trained_models/with_borders_with_class_weighing/whole_image_224x224_2/20170918_fold4.hdf5'\n",
    "#model_path = '/media/narita/Data/Neutrophils/segmentation_npys/trained_models/with_borders_with_class_weighing/whole_image_224x224/20170905_fold4.hdf5'\n",
    "\n",
    "model.compile(loss='categorical_crossentropy', \n",
    "                  optimizer=keras.optimizers.RMSprop(1e-3), metrics=[\"accuracy\"], sample_weight_mode='temporal')\n",
    "model.load_weights(model_path)\n"
   ]
  },
  {
   "cell_type": "code",
   "execution_count": 40,
   "metadata": {},
   "outputs": [
    {
     "data": {
      "text/plain": [
       "[0.098008310989193298, 0.96567437182302063]"
      ]
     },
     "execution_count": 40,
     "metadata": {},
     "output_type": "execute_result"
    }
   ],
   "source": [
    "model.evaluate_generator(gen_test,steps=23, max_queue_size=10, workers=1, use_multiprocessing=False)"
   ]
  },
  {
   "cell_type": "code",
   "execution_count": 41,
   "metadata": {},
   "outputs": [
    {
     "data": {
      "text/plain": [
       "['loss', 'acc']"
      ]
     },
     "execution_count": 41,
     "metadata": {},
     "output_type": "execute_result"
    }
   ],
   "source": [
    "model.metrics_names"
   ]
  },
  {
   "cell_type": "markdown",
   "metadata": {},
   "source": [
    "### Predict on all test data"
   ]
  },
  {
   "cell_type": "code",
   "execution_count": 42,
   "metadata": {
    "collapsed": true
   },
   "outputs": [],
   "source": [
    "def predict(img,model):\n",
    "    predicted_img= model.predict(img)\n",
    "    return img, predicted_img\n"
   ]
  },
  {
   "cell_type": "code",
   "execution_count": 43,
   "metadata": {},
   "outputs": [
    {
     "name": "stdout",
     "output_type": "stream",
     "text": [
      "Processed:0 / 46\n",
      "Processed:1 / 46\n",
      "Processed:2 / 46\n",
      "Processed:3 / 46\n",
      "Processed:4 / 46\n",
      "Processed:5 / 46\n",
      "Processed:6 / 46\n",
      "Processed:7 / 46\n",
      "Processed:8 / 46\n",
      "Processed:9 / 46\n",
      "Processed:10 / 46\n",
      "Processed:11 / 46\n",
      "Processed:12 / 46\n",
      "Processed:13 / 46\n",
      "Processed:14 / 46\n",
      "Processed:15 / 46\n",
      "Processed:16 / 46\n",
      "Processed:17 / 46\n",
      "Processed:18 / 46\n",
      "Processed:19 / 46\n",
      "Processed:20 / 46\n",
      "Processed:21 / 46\n",
      "Processed:22 / 46\n",
      "Processed:23 / 46\n",
      "Processed:24 / 46\n",
      "Processed:25 / 46\n",
      "Processed:26 / 46\n",
      "Processed:27 / 46\n",
      "Processed:28 / 46\n",
      "Processed:29 / 46\n",
      "Processed:30 / 46\n",
      "Processed:31 / 46\n",
      "Processed:32 / 46\n",
      "Processed:33 / 46\n",
      "Processed:34 / 46\n",
      "Processed:35 / 46\n",
      "Processed:36 / 46\n",
      "Processed:37 / 46\n",
      "Processed:38 / 46\n",
      "Processed:39 / 46\n",
      "Processed:40 / 46\n",
      "Processed:41 / 46\n",
      "Processed:42 / 46\n",
      "Processed:43 / 46\n",
      "Processed:44 / 46\n",
      "Processed:45 / 46\n"
     ]
    }
   ],
   "source": [
    "model_path = '/media/narita/Data/Neutrophils/segmentation_results/trained_models/with_borders_with_class_weighing/whole_image_224x224_2/20170918_fold4.hdf5'\n",
    "#model_path = '/media/narita/Data/Neutrophils/segmentation_npys/trained_models/with_borders_with_class_weighing/whole_image_224x224/20170905_fold4.hdf5'\n",
    "model.compile(loss='categorical_crossentropy', \n",
    "                  optimizer=keras.optimizers.RMSprop(1e-3), metrics=[\"accuracy\"], sample_weight_mode='temporal')\n",
    "\n",
    "model.load_weights(model_path)\n",
    "\n",
    "\n",
    "out_path = '/media/narita/Data/Neutrophils/train_test_images/testing_npys/segmentation_output/whole_img_resized_224x224'\n",
    "for i, full_img in enumerate(testing_imgs):\n",
    "    full_img_r, full_pred = predict(np.array([full_img]),model)\n",
    "    np.save(os.path.join(out_path,str(i)),full_pred)\n",
    "    print ('Processed:'+str(i)+\" / \"+str(len(testing_imgs)))"
   ]
  },
  {
   "cell_type": "markdown",
   "metadata": {},
   "source": [
    "#### Let's see some predictions"
   ]
  },
  {
   "cell_type": "code",
   "execution_count": 48,
   "metadata": {
    "collapsed": true
   },
   "outputs": [],
   "source": [
    "preds=np.load('/media/narita/Data/Neutrophils/train_test_images/testing_npys/segmentation_output/whole_img_resized_224x224/15.npy')"
   ]
  },
  {
   "cell_type": "code",
   "execution_count": 49,
   "metadata": {},
   "outputs": [
    {
     "data": {
      "text/plain": [
       "(224, 224, 3)"
      ]
     },
     "execution_count": 49,
     "metadata": {},
     "output_type": "execute_result"
    }
   ],
   "source": [
    "preds1 = preds.copy()\n",
    "preds1 = preds1.reshape(224,224,3)\n",
    "preds1.shape"
   ]
  },
  {
   "cell_type": "code",
   "execution_count": 50,
   "metadata": {},
   "outputs": [
    {
     "data": {
      "text/plain": [
       "<matplotlib.image.AxesImage at 0x7fb95d6a4310>"
      ]
     },
     "execution_count": 50,
     "metadata": {},
     "output_type": "execute_result"
    },
    {
     "data": {
      "image/png": "[encoded data removed]",
      "text/plain": [
       "<matplotlib.figure.Figure at 0x7fba1cbefb90>"
      ]
     },
     "metadata": {},
     "output_type": "display_data"
    }
   ],
   "source": [
    "\n",
    "preds1_copy = np.argmax(preds, axis=-1)\n",
    "preds1_copy = preds1_copy.reshape(224,224)\n",
    "plt.imshow(preds1_copy)"
   ]
  },
  {
   "cell_type": "code",
   "execution_count": 51,
   "metadata": {},
   "outputs": [
    {
     "data": {
      "text/plain": [
       "array([[2, 2, 2, ..., 2, 2, 2],\n",
       "       [2, 2, 2, ..., 2, 2, 2],\n",
       "       [2, 2, 2, ..., 2, 2, 2],\n",
       "       ..., \n",
       "       [2, 2, 2, ..., 2, 2, 2],\n",
       "       [2, 2, 2, ..., 2, 2, 2],\n",
       "       [2, 2, 2, ..., 2, 2, 2]])"
      ]
     },
     "execution_count": 51,
     "metadata": {},
     "output_type": "execute_result"
    }
   ],
   "source": [
    "preds1_copy"
   ]
  },
  {
   "cell_type": "code",
   "execution_count": 47,
   "metadata": {},
   "outputs": [
    {
     "data": {
      "image/png": "[encoded data removed]",
      "text/plain": [
       "<matplotlib.figure.Figure at 0x7fb95e277d10>"
      ]
     },
     "metadata": {},
     "output_type": "display_data"
    }
   ],
   "source": [
    "import matplotlib.gridspec as gridspec\n",
    "fig = plt.figure(figsize=(10, 10))\n",
    "\n",
    "gs = gridspec.GridSpec(1, 3)\n",
    "\n",
    "ax1 = plt.subplot(gs[0])\n",
    "ax2 = plt.subplot(gs[1])\n",
    "ax3 = plt.subplot(gs[2])\n",
    "\n",
    "ax1.imshow(testing_imgs[15]*std+mu)\n",
    "ax2.imshow((testing_labels[15]), cmap='jet',interpolation='nearest')\n",
    "ax3.imshow((preds1), cmap='jet',interpolation='nearest')\n",
    "\n",
    "plt.show()"
   ]
  },
  {
   "cell_type": "code",
   "execution_count": null,
   "metadata": {
    "collapsed": true
   },
   "outputs": [],
   "source": [
    "testing_labels[15]"
   ]
  },
  {
   "cell_type": "code",
   "execution_count": 54,
   "metadata": {},
   "outputs": [
    {
     "name": "stdout",
     "output_type": "stream",
     "text": [
      "[0 1 2]\n"
     ]
    }
   ],
   "source": [
    "temp2 = (preds1_copy)\n",
    "new_array2 = [tuple(row) for row in temp2]\n",
    "uniques2 = np.unique(new_array2)\n",
    "print ((uniques2))"
   ]
  },
  {
   "cell_type": "code",
   "execution_count": null,
   "metadata": {
    "collapsed": true
   },
   "outputs": [],
   "source": [
    "print uniques2[0:100]"
   ]
  },
  {
   "cell_type": "code",
   "execution_count": null,
   "metadata": {
    "collapsed": true
   },
   "outputs": [],
   "source": [
    "ZZ = Image.fromarray((preds1*255).astype('uint8'))\n",
    "ZZ\n"
   ]
  }
 ],
 "metadata": {
  "kernelspec": {
   "display_name": "Python 2",
   "language": "python",
   "name": "python2"
  },
  "language_info": {
   "codemirror_mode": {
    "name": "ipython",
    "version": 2
   },
   "file_extension": ".py",
   "mimetype": "text/x-python",
   "name": "python",
   "nbconvert_exporter": "python",
   "pygments_lexer": "ipython2",
   "version": "2.7.12"
  }
 },
 "nbformat": 4,
 "nbformat_minor": 2
}
